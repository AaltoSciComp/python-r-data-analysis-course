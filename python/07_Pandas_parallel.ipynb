{
 "cells": [
  {
   "cell_type": "markdown",
   "metadata": {},
   "source": [
    "# Parallel split-apply-combine\n",
    "\n",
    "A nice property of split-apply-combine is that it is well suited to parallel computation, in the sense that the apply part can be done independently in parallel. The disadvantage is that you cannot use the quick-and-easy functionality we used above, as you need to do each part separately.\n",
    "\n",
    "We now proceed with exercises where you\n",
    "\n",
    "1. Use the python multiprocessing module to do the apply part in parallel.\n",
    "2. Use slurm array jobs to do the apply part in parallel.\n"
   ]
  },
  {
   "cell_type": "markdown",
   "metadata": {},
   "source": [
    "## Split-apply-combine using multiprocessing\n",
    "\n",
    "Here we use the Pool class in the multiprocessing module, which is an easy way to parallelize simple tasks."
   ]
  },
  {
   "cell_type": "markdown",
   "metadata": {},
   "source": [
    "## Parallel split-apply-combine with slurm array jobs\n",
    "\n",
    "For this we need to step outside the warm confines of the jupyter notebook and face the cold, hard reality of the shell. You will need several python scripts, and several slurm batch scripts. What you need is\n",
    "\n",
    "- A python script to read the original dataset and split it into separate datasets, and then write each dataset into a separate file. This is the *split* phase.\n",
    "- A python script to read in a dataset (a split dataset generated in the previous step), and perform the operation we're interested in, and write the part to an output file. This is the *apply* phase, and can be run in parallel, once for each dataset.\n",
    "- A python script that combines the results of the apply phase and generates the final result. This is the *combine* phase.\n",
    "- A slurm batch script to run the split phase, and then submits jobs for the apply and combine phases. *Hint*: For the apply phases, you should use a slurm array job.\n",
    "- A slurm batch script to run the combine phase. *Hint*: This job needs to use slurm job dependencies so that it only runs after the successful completion of the apply phase jobs."
   ]
  }
 ],
 "metadata": {
  "kernelspec": {
   "display_name": "Python 3",
   "language": "python",
   "name": "python3"
  },
  "language_info": {
   "codemirror_mode": {
    "name": "ipython",
    "version": 3
   },
   "file_extension": ".py",
   "mimetype": "text/x-python",
   "name": "python",
   "nbconvert_exporter": "python",
   "pygments_lexer": "ipython3",
   "version": "3.7.3"
  },
  "varInspector": {
   "cols": {
    "lenName": 16,
    "lenType": 16,
    "lenVar": 40
   },
   "kernels_config": {
    "python": {
     "delete_cmd_postfix": "",
     "delete_cmd_prefix": "del ",
     "library": "var_list.py",
     "varRefreshCmd": "print(var_dic_list())"
    },
    "r": {
     "delete_cmd_postfix": ") ",
     "delete_cmd_prefix": "rm(",
     "library": "var_list.r",
     "varRefreshCmd": "cat(var_dic_list()) "
    }
   },
   "types_to_exclude": [
    "module",
    "function",
    "builtin_function_or_method",
    "instance",
    "_Feature"
   ],
   "window_display": false
  }
 },
 "nbformat": 4,
 "nbformat_minor": 4
}
