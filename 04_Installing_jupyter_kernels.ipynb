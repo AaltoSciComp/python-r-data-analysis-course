{
 "cells": [
  {
   "cell_type": "markdown",
   "metadata": {},
   "source": [
    "# Installing jupyter kernels\n",
    "\n",
    "By request, here is a quick tutorial on installing your own Jupyter kernels."
   ]
  },
  {
   "cell_type": "markdown",
   "metadata": {},
   "source": [
    "## Listing kernels\n",
    "Before we do anything, we should learn about what kernels exist"
   ]
  },
  {
   "cell_type": "code",
   "execution_count": 1,
   "metadata": {},
   "outputs": [],
   "source": [
    "module load jupyterhub/live"
   ]
  },
  {
   "cell_type": "code",
   "execution_count": 3,
   "metadata": {},
   "outputs": [
    {
     "name": "stdout",
     "output_type": "stream",
     "text": [
      "Available kernels:\n",
      "  sqlite3                /home/darstr1/.local/share/jupyter/kernels/sqlite3\n",
      "  anaconda2_5.1.0-cpu    /share/apps/jupyterhub/live/miniconda/share/jupyter/kernels/anaconda2_5.1.0-cpu\n",
      "  anaconda2_5.1.0-gpu    /share/apps/jupyterhub/live/miniconda/share/jupyter/kernels/anaconda2_5.1.0-gpu\n",
      "  anaconda3_5.1.0-cpu    /share/apps/jupyterhub/live/miniconda/share/jupyter/kernels/anaconda3_5.1.0-cpu\n",
      "  anaconda3_5.1.0-gpu    /share/apps/jupyterhub/live/miniconda/share/jupyter/kernels/anaconda3_5.1.0-gpu\n",
      "  bash                   /share/apps/jupyterhub/live/miniconda/share/jupyter/kernels/bash\n",
      "  ir                     /share/apps/jupyterhub/live/miniconda/share/jupyter/kernels/ir\n",
      "  matlab                 /share/apps/jupyterhub/live/miniconda/share/jupyter/kernels/matlab\n",
      "  pypy2_5.10.0-py2.7     /share/apps/jupyterhub/live/miniconda/share/jupyter/kernels/pypy2_5.10.0-py2.7\n",
      "  pypy3_5.10.1-py3.5     /share/apps/jupyterhub/live/miniconda/share/jupyter/kernels/pypy3_5.10.1-py3.5\n",
      "  python2                /share/apps/jupyterhub/live/miniconda/share/jupyter/kernels/python2\n",
      "  python3                /share/apps/jupyterhub/live/miniconda/share/jupyter/kernels/python3\n"
     ]
    }
   ],
   "source": [
    "jupyter kernelspec list"
   ]
  },
  {
   "cell_type": "markdown",
   "metadata": {},
   "source": [
    "We see there are three main places for kernels: `$HOME/.local/share/jupyter/kernels/`, and `$SYS_PREFIX/share/jupyter/kernels/`.  Let's look and see what is in the kernels."
   ]
  },
  {
   "cell_type": "code",
   "execution_count": 4,
   "metadata": {},
   "outputs": [
    {
     "name": "stdout",
     "output_type": "stream",
     "text": [
      "kernel.json  logo-32x32.png  logo-64x64.png\n"
     ]
    }
   ],
   "source": [
    "ls /share/apps/jupyterhub/live/miniconda/share/jupyter/kernels/anaconda2_5.1.0-cpu"
   ]
  },
  {
   "cell_type": "code",
   "execution_count": 5,
   "metadata": {},
   "outputs": [
    {
     "name": "stdout",
     "output_type": "stream",
     "text": [
      "{\n",
      " \"display_name\": \"anaconda2/5.1.0-cpu\", \n",
      " \"language\": \"python\", \n",
      " \"argv\": [\n",
      "  \"/share/apps/anaconda-ci/envs/anaconda2/5.1.0-cpu/bin/python\", \n",
      "  \"-m\", \n",
      "  \"ipykernel_launcher\", \n",
      "  \"-f\", \n",
      "  \"{connection_file}\"\n",
      " ]\n",
      "}"
     ]
    }
   ],
   "source": [
    "cat /share/apps/jupyterhub/live/miniconda/share/jupyter/kernels/anaconda2_5.1.0-cpu/kernel.json"
   ]
  },
  {
   "cell_type": "markdown",
   "metadata": {},
   "source": [
    "# Installing new kernels\n",
    "You will be installing kernels to your home directory.  Each kernel has some way of adding the kernelspec JSON files.  Many of the better ones have `--sys-prefix` and `--user` options, but not all.  For your purposes, you want `--user`.  Some default to user installs.  Some you have to do something, and then manually fix it."
   ]
  },
  {
   "cell_type": "code",
   "execution_count": 6,
   "metadata": {},
   "outputs": [],
   "source": [
    "module purge"
   ]
  },
  {
   "cell_type": "markdown",
   "metadata": {},
   "source": [
    "For testing purposes, I will try to install a new kernel from an existing conda module."
   ]
  },
  {
   "cell_type": "code",
   "execution_count": 8,
   "metadata": {},
   "outputs": [
    {
     "name": "stdout",
     "output_type": "stream",
     "text": [
      "\n",
      "----------------------------------------------------------------------------\n",
      "  anaconda3:\n",
      "----------------------------------------------------------------------------\n",
      "     Versions:\n",
      "        anaconda3/latest\n",
      "        anaconda3/2.5.0\n",
      "        anaconda3/4.0.0\n",
      "        anaconda3/4.1.1\n",
      "        anaconda3/4.3.0\n",
      "        anaconda3/5.1.0-cpu\n",
      "        anaconda3/5.1.0-gpu\n",
      "\n",
      "     Other possible modules matches:\n",
      "        modules/anaconda3\n",
      "\n",
      "----------------------------------------------------------------------------\n",
      "  To find other possible module matches do:\n",
      "      module -r spider '.*anaconda3.*'\n",
      "\n",
      "----------------------------------------------------------------------------\n",
      "  For detailed information about a specific \"anaconda3\" module (including how to load the modules) use the module's full name.\n",
      "  For example:\n",
      "\n",
      "     $ module spider anaconda3/latest\n",
      "----------------------------------------------------------------------------\n",
      "\n"
     ]
    }
   ],
   "source": [
    "module spider anaconda3"
   ]
  },
  {
   "cell_type": "code",
   "execution_count": 9,
   "metadata": {},
   "outputs": [],
   "source": [
    "module load anaconda3/2.5.0"
   ]
  },
  {
   "cell_type": "code",
   "execution_count": 10,
   "metadata": {},
   "outputs": [
    {
     "name": "stdout",
     "output_type": "stream",
     "text": [
      "/share/apps/anaconda/2.5.0-python3.5/bin/python\n"
     ]
    }
   ],
   "source": [
    "which python"
   ]
  },
  {
   "cell_type": "code",
   "execution_count": 11,
   "metadata": {},
   "outputs": [
    {
     "name": "stdout",
     "output_type": "stream",
     "text": [
      "usage: __main__.py [-h] [--user] [--name NAME] [--display-name DISPLAY_NAME]\n",
      "                   [--prefix PREFIX]\n",
      "\n",
      "Install the IPython kernel spec.\n",
      "\n",
      "optional arguments:\n",
      "  -h, --help            show this help message and exit\n",
      "  --user                Install for the current user instead of system-wide\n",
      "  --name NAME           Specify a name for the kernelspec. This is needed to\n",
      "                        have multiple IPython kernels at the same time.\n",
      "  --display-name DISPLAY_NAME\n",
      "                        Specify the display name for the kernelspec. This is\n",
      "                        helpful when you have multiple IPython kernels.\n",
      "  --prefix PREFIX       Specify an install prefix for the kernelspec. This is\n",
      "                        needed to install into a non-default location, such as\n",
      "                        a conda/virtual-env.\n"
     ]
    }
   ],
   "source": [
    "python -m ipykernel install -h"
   ]
  },
  {
   "cell_type": "code",
   "execution_count": 14,
   "metadata": {},
   "outputs": [
    {
     "name": "stdout",
     "output_type": "stream",
     "text": [
      "Installed kernelspec mypython3 in /home/darstr1/.local/share/jupyter/kernels/mypython3\n"
     ]
    }
   ],
   "source": [
    "python -m ipykernel install --name=mypython3 --user --display-name=\"My Python Anaconda 2.5.0\""
   ]
  },
  {
   "cell_type": "code",
   "execution_count": 15,
   "metadata": {},
   "outputs": [
    {
     "name": "stdout",
     "output_type": "stream",
     "text": [
      "Available kernels:\n",
      "  mypython3              /home/darstr1/.local/share/jupyter/kernels/mypython3\n",
      "  python3                /home/darstr1/.local/share/jupyter/kernels/python3\n",
      "  sqlite3                /home/darstr1/.local/share/jupyter/kernels/sqlite3\n",
      "  anaconda2_5.1.0-cpu    /share/apps/jupyterhub/live/miniconda/share/jupyter/kernels/anaconda2_5.1.0-cpu\n",
      "  anaconda2_5.1.0-gpu    /share/apps/jupyterhub/live/miniconda/share/jupyter/kernels/anaconda2_5.1.0-gpu\n",
      "  anaconda3_5.1.0-cpu    /share/apps/jupyterhub/live/miniconda/share/jupyter/kernels/anaconda3_5.1.0-cpu\n",
      "  anaconda3_5.1.0-gpu    /share/apps/jupyterhub/live/miniconda/share/jupyter/kernels/anaconda3_5.1.0-gpu\n",
      "  bash                   /share/apps/jupyterhub/live/miniconda/share/jupyter/kernels/bash\n",
      "  ir                     /share/apps/jupyterhub/live/miniconda/share/jupyter/kernels/ir\n",
      "  matlab                 /share/apps/jupyterhub/live/miniconda/share/jupyter/kernels/matlab\n",
      "  pypy2_5.10.0-py2.7     /share/apps/jupyterhub/live/miniconda/share/jupyter/kernels/pypy2_5.10.0-py2.7\n",
      "  pypy3_5.10.1-py3.5     /share/apps/jupyterhub/live/miniconda/share/jupyter/kernels/pypy3_5.10.1-py3.5\n",
      "  python2                /share/apps/jupyterhub/live/miniconda/share/jupyter/kernels/python2\n"
     ]
    }
   ],
   "source": [
    "module purge\n",
    "module load jupyterhub/live\n",
    "jupyter kernelspec list"
   ]
  },
  {
   "cell_type": "markdown",
   "metadata": {},
   "source": [
    "# Bash kernel\n",
    "Read the docs: https://github.com/takluyver/bash_kernel.  When installing a new kernel, we always start from the docs and hope that they are good."
   ]
  },
  {
   "cell_type": "code",
   "execution_count": 16,
   "metadata": {},
   "outputs": [],
   "source": [
    "module purge\n",
    "module load jupyterhub/live"
   ]
  },
  {
   "cell_type": "code",
   "execution_count": 17,
   "metadata": {},
   "outputs": [
    {
     "name": "stdout",
     "output_type": "stream",
     "text": [
      "usage: install.py [-h] [--user | --sys-prefix | --prefix PREFIX]\n",
      "\n",
      "Install KernelSpec for Bash Kernel\n",
      "\n",
      "optional arguments:\n",
      "  -h, --help       show this help message and exit\n",
      "  --user           Install KernelSpec in user homedirectory\n",
      "  --sys-prefix     Install KernelSpec in sys.prefix. Useful in conda /\n",
      "                   virtualenv\n",
      "  --prefix PREFIX  Install KernelSpec in this prefix\n"
     ]
    }
   ],
   "source": [
    "python -m bash_kernel.install -h"
   ]
  },
  {
   "cell_type": "code",
   "execution_count": 18,
   "metadata": {},
   "outputs": [
    {
     "name": "stdout",
     "output_type": "stream",
     "text": [
      "Installing IPython kernel spec\n"
     ]
    }
   ],
   "source": [
    "python -m bash_kernel.install --user"
   ]
  },
  {
   "cell_type": "code",
   "execution_count": 19,
   "metadata": {},
   "outputs": [
    {
     "name": "stdout",
     "output_type": "stream",
     "text": [
      "Available kernels:\n",
      "  bash                   /home/darstr1/.local/share/jupyter/kernels/bash\n",
      "  mypython3              /home/darstr1/.local/share/jupyter/kernels/mypython3\n",
      "  python3                /home/darstr1/.local/share/jupyter/kernels/python3\n",
      "  sqlite3                /home/darstr1/.local/share/jupyter/kernels/sqlite3\n",
      "  anaconda2_5.1.0-cpu    /share/apps/jupyterhub/live/miniconda/share/jupyter/kernels/anaconda2_5.1.0-cpu\n",
      "  anaconda2_5.1.0-gpu    /share/apps/jupyterhub/live/miniconda/share/jupyter/kernels/anaconda2_5.1.0-gpu\n",
      "  anaconda3_5.1.0-cpu    /share/apps/jupyterhub/live/miniconda/share/jupyter/kernels/anaconda3_5.1.0-cpu\n",
      "  anaconda3_5.1.0-gpu    /share/apps/jupyterhub/live/miniconda/share/jupyter/kernels/anaconda3_5.1.0-gpu\n",
      "  ir                     /share/apps/jupyterhub/live/miniconda/share/jupyter/kernels/ir\n",
      "  matlab                 /share/apps/jupyterhub/live/miniconda/share/jupyter/kernels/matlab\n",
      "  pypy2_5.10.0-py2.7     /share/apps/jupyterhub/live/miniconda/share/jupyter/kernels/pypy2_5.10.0-py2.7\n",
      "  pypy3_5.10.1-py3.5     /share/apps/jupyterhub/live/miniconda/share/jupyter/kernels/pypy3_5.10.1-py3.5\n",
      "  python2                /share/apps/jupyterhub/live/miniconda/share/jupyter/kernels/python2\n"
     ]
    }
   ],
   "source": [
    "jupyter kernelspec list"
   ]
  },
  {
   "cell_type": "code",
   "execution_count": null,
   "metadata": {},
   "outputs": [],
   "source": []
  }
 ],
 "metadata": {
  "kernelspec": {
   "display_name": "Bash",
   "language": "bash",
   "name": "bash"
  },
  "language_info": {
   "codemirror_mode": "shell",
   "file_extension": ".sh",
   "mimetype": "text/x-sh",
   "name": "bash"
  },
  "toc": {
   "nav_menu": {},
   "number_sections": true,
   "sideBar": true,
   "skip_h1_title": false,
   "title_cell": "Table of Contents",
   "title_sidebar": "Contents",
   "toc_cell": false,
   "toc_position": {},
   "toc_section_display": true,
   "toc_window_display": false
  },
  "varInspector": {
   "cols": {
    "lenName": 16,
    "lenType": 16,
    "lenVar": 40
   },
   "kernels_config": {
    "python": {
     "delete_cmd_postfix": "",
     "delete_cmd_prefix": "del ",
     "library": "var_list.py",
     "varRefreshCmd": "print(var_dic_list())"
    },
    "r": {
     "delete_cmd_postfix": ") ",
     "delete_cmd_prefix": "rm(",
     "library": "var_list.r",
     "varRefreshCmd": "cat(var_dic_list()) "
    }
   },
   "types_to_exclude": [
    "module",
    "function",
    "builtin_function_or_method",
    "instance",
    "_Feature"
   ],
   "window_display": false
  }
 },
 "nbformat": 4,
 "nbformat_minor": 2
}
