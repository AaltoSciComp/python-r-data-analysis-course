{
 "cells": [
  {
   "cell_type": "markdown",
   "metadata": {},
   "source": [
    "# Models and Maps\n",
    "\n",
    "## Models\n",
    "\n",
    "Let's again consider the car dataset from second notebook.\n",
    "\n",
    "In that notebook we plotted *qsec* as a function of *hp*. However we might be interested a better model. Let's load the data."
   ]
  },
  {
   "cell_type": "code",
   "execution_count": null,
   "metadata": {},
   "outputs": [],
   "source": [
    "library(tidyverse)\n",
    "\n",
    "data(mtcars)\n",
    "\n",
    "mtcars_tbl <- as_tibble(rownames_to_column(mtcars,var='model'))\n",
    "\n",
    "str(mtcars_tbl)"
   ]
  },
  {
   "cell_type": "markdown",
   "metadata": {},
   "source": [
    "Now let's fit three different linear models with `lm` from `stats`-package [[lm]](https://www.rdocumentation.org/packages/stats/versions/3.4.3/topics/lm).\n",
    "\n",
    "First model will be `qsec ~ wt`, while second will be `qsec ~ hp`. Let's combine both of these effects into a third model `qsec ~ hp / wt`.\n",
    "\n",
    "`summary` will show a summary of the model."
   ]
  },
  {
   "cell_type": "code",
   "execution_count": null,
   "metadata": {},
   "outputs": [],
   "source": [
    "lm1_model <- function(data) lm(qsec ~ wt,      data=data)\n",
    "lm2_model <- function(data) lm(qsec ~ hp,      data=data)\n",
    "lm3_model <- function(data) lm(qsec ~ hp / wt, data=data)\n",
    "\n",
    "summary(lm1_model(mtcars_tbl))\n",
    "summary(lm2_model(mtcars_tbl))\n",
    "summary(lm3_model(mtcars_tbl))"
   ]
  },
  {
   "cell_type": "markdown",
   "metadata": {},
   "source": [
    "One can add arbitrary amount of terms into these models. There's plenty of other models in R libraries one might want to use.\n",
    "\n",
    "# Nesting\n",
    "\n",
    "Let's say we want to calculate the same models for each group specified by a cylinder. \n",
    "\n",
    "This means we need to do iteration over the groups and for this to work, we should split the data into chunks that will be iterated over. \n",
    "\n",
    "To do this we can use the `nest`-function ([[nest]](http://tidyr.tidyverse.org/reference/nest.html))."
   ]
  },
  {
   "cell_type": "code",
   "execution_count": null,
   "metadata": {},
   "outputs": [],
   "source": [
    "mtcars_nested <- mtcars_tbl %>%\n",
    "    # Convert cyl into a factor\n",
    "    mutate_at(vars(cyl),as.factor) %>%\n",
    "    # Group by cyl\n",
    "    group_by(cyl) %>%\n",
    "    # Nest the data\n",
    "    nest()\n",
    "\n",
    "print(mtcars_nested)"
   ]
  },
  {
   "cell_type": "markdown",
   "metadata": {},
   "source": [
    "This produces a `tibble` where all data is stored in a column of a type `list` and name *data*.\n",
    "\n",
    "## Maps\n",
    "\n",
    "### Example 1: running linear models on groups\n",
    "\n",
    "Now that we have our list to iterate over, we can use `map` to do the iteration.\n",
    "\n",
    "`map` is provided by the purrr-package. There are variants of it based on the return value of the used function. \n",
    "\n",
    "In this case we receive the results for a model as strange S3-objects, so we want to use the `map`-function that creates a list from the outputs [[map]](http://purrr.tidyverse.org/reference/map.html)."
   ]
  },
  {
   "cell_type": "code",
   "execution_count": null,
   "metadata": {},
   "outputs": [],
   "source": [
    "# Map each data to model, pipe resulting fits to summary-function\n",
    "map(mtcars_nested$data,lm3_model) %>%\n",
    "    map(summary)"
   ]
  },
  {
   "cell_type": "markdown",
   "metadata": {},
   "source": [
    "A more *tidyverse*-approach to using the `map` is to use it with `mutate` to store the fits into a new columns. This makes it easy to run multiple models and store their results."
   ]
  },
  {
   "cell_type": "code",
   "execution_count": null,
   "metadata": {},
   "outputs": [],
   "source": [
    "mtcars_nested <- mtcars_nested %>%\n",
    "    mutate(\n",
    "        model1=map(data, lm1_model),\n",
    "        model2=map(data, lm2_model),\n",
    "        model3=map(data, lm3_model)\n",
    "    )\n",
    "\n",
    "# Check structure\n",
    "print(mtcars_nested)"
   ]
  },
  {
   "cell_type": "markdown",
   "metadata": {},
   "source": [
    "Package `broom` comes with nice functions `tidy` and `glance` that can be used to obtain coefficients or tests of the models in nice tibbles [[broom vignette]](https://cran.r-project.org/web/packages/broom/vignettes/broom.html)."
   ]
  },
  {
   "cell_type": "code",
   "execution_count": null,
   "metadata": {},
   "outputs": [],
   "source": [
    "library(broom)\n",
    "\n",
    "tidy(mtcars_nested$model3[[1]])\n",
    "\n",
    "glance(mtcars_nested$model3[[1]])"
   ]
  },
  {
   "cell_type": "markdown",
   "metadata": {},
   "source": [
    "Let's use `tidy` to get the model parameters."
   ]
  },
  {
   "cell_type": "code",
   "execution_count": null,
   "metadata": {},
   "outputs": [],
   "source": [
    "mtcars_nested <- mtcars_nested %>%\n",
    "    mutate(\n",
    "        model1_coefs=map(model3,tidy),\n",
    "        model2_coefs=map(model3,tidy),\n",
    "        model3_coefs=map(model3,tidy)\n",
    "    )\n",
    "\n",
    "print(mtcars_nested)"
   ]
  },
  {
   "cell_type": "markdown",
   "metadata": {},
   "source": [
    "Let's limit ourselves to model no. 3, as that is the most interesting  and use `unnest` to unnest the coefficients."
   ]
  },
  {
   "cell_type": "code",
   "execution_count": null,
   "metadata": {},
   "outputs": [],
   "source": [
    "mtcars_model3 <- mtcars_nested %>%\n",
    "    select(cyl,model3_coefs) %>%\n",
    "    unnest(model3_coefs)\n",
    "\n",
    "print(mtcars_model3)"
   ]
  },
  {
   "cell_type": "markdown",
   "metadata": {},
   "source": [
    "### Example 2: Getting summaries of subgroups\n",
    "\n",
    "Lets say we want to store statistics calculated from `iris`-dataset with our data. Let's nest the data."
   ]
  },
  {
   "cell_type": "code",
   "execution_count": null,
   "metadata": {},
   "outputs": [],
   "source": [
    "iris_nested <- as_tibble(iris) %>%\n",
    "    group_by(Species) %>%\n",
    "    nest()\n",
    "\n",
    "print(iris_nested)"
   ]
  },
  {
   "cell_type": "markdown",
   "metadata": {},
   "source": [
    "Now the data belonging to each species is stored in the data-variable. Now we cannot, however just use summarize the data as the summary would not be done against the `tibble` stored in the data. Instead we need to define a function that acts on the data itself and use a map that acts on the list on which the data-`tibble`s are stored."
   ]
  },
  {
   "cell_type": "code",
   "execution_count": null,
   "metadata": {},
   "outputs": [],
   "source": [
    "iris_statistics <- function(tbl) {\n",
    "    return(as_tibble(tbl %>%\n",
    "        summarize(\n",
    "            Petal.Length_mean=mean(Petal.Length),\n",
    "            Petal.Width_mean=mean(Petal.Width),\n",
    "            Petal.Length_var=var(Petal.Length),\n",
    "            Petal.Width_var=var(Petal.Width),\n",
    "            Petal_cor=cor(Petal.Length,Petal.Width)))\n",
    "    )\n",
    "}\n",
    "\n",
    "as_tibble(iris) %>%\n",
    "    group_by(Species) %>%\n",
    "    iris_statistics()"
   ]
  },
  {
   "cell_type": "markdown",
   "metadata": {},
   "source": [
    "On nested data the function is used with:"
   ]
  },
  {
   "cell_type": "code",
   "execution_count": null,
   "metadata": {},
   "outputs": [],
   "source": [
    "iris_nested <- iris_nested %>%\n",
    "    mutate(statistics=map(data,iris_statistics))\n",
    "\n",
    "print(iris_nested)"
   ]
  },
  {
   "cell_type": "markdown",
   "metadata": {},
   "source": [
    "Now our statistics are stored in the variable `statistics`. They are not that easy to access, though. Let's use `unnest` to reverse the nesting in the `statistics`-variable."
   ]
  },
  {
   "cell_type": "code",
   "execution_count": null,
   "metadata": {},
   "outputs": [],
   "source": [
    "iris_nested <- iris_nested %>%\n",
    "    unnest(statistics)\n",
    "\n",
    "print(iris_nested)"
   ]
  },
  {
   "cell_type": "markdown",
   "metadata": {},
   "source": [
    "# Exercise time:\n",
    "\n",
    "Do this exercise to `storms`-dataset initialized below that is a subset of NOAA Atlantic hurricane database [[storms]](http://dplyr.tidyverse.org/reference/storms.html).\n",
    "\n",
    "1. Group the dataset based on `name`. Nest the data.\n",
    "2. Use map to calculate the minimum pressure, maximum wind speed and maximum category for each storm. Store these to the object. Unwind them into variables.\n",
    "3. Plot a scatterplot with x-axis showing minimum pressure, y-axis showing maximum wind speed and colour showing maximum category."
   ]
  },
  {
   "cell_type": "code",
   "execution_count": null,
   "metadata": {},
   "outputs": [],
   "source": [
    "data(storms)\n",
    "\n",
    "str(storms)"
   ]
  },
  {
   "cell_type": "markdown",
   "metadata": {},
   "source": [
    "# Solutions:\n",
    "\n",
    "## 1."
   ]
  },
  {
   "cell_type": "code",
   "execution_count": null,
   "metadata": {},
   "outputs": [],
   "source": [
    "storms_nested <- storms %>%\n",
    "    mutate(name=as.factor(name)) %>%\n",
    "    group_by(name) %>%\n",
    "    nest()\n",
    "\n",
    "print(storms_nested)"
   ]
  },
  {
   "cell_type": "markdown",
   "metadata": {},
   "source": [
    "## 2."
   ]
  },
  {
   "cell_type": "code",
   "execution_count": null,
   "metadata": {},
   "outputs": [],
   "source": [
    "storm_stats <- function(storm_data) {\n",
    "    output <- storm_data %>%\n",
    "        summarize(min_pressure=min(pressure),max_wind=max(wind),max_category=max(category))\n",
    "}\n",
    "\n",
    "storms_nested <- storms_nested %>%\n",
    "    mutate(stats=map(data,storm_stats)) %>%\n",
    "    unnest(stats)\n",
    "\n",
    "print(storms_nested)"
   ]
  },
  {
   "cell_type": "markdown",
   "metadata": {},
   "source": [
    "## 3."
   ]
  },
  {
   "cell_type": "code",
   "execution_count": null,
   "metadata": {},
   "outputs": [],
   "source": [
    "storms_nested %>%\n",
    "    ggplot(aes(x=min_pressure,y=max_wind,color=max_category)) +\n",
    "    geom_point() +\n",
    "    scale_x_reverse() +\n",
    "    labs(x='Minimum pressure [mbar]',y='Maximum windspeed [km/h]',color='Storm category')"
   ]
  },
  {
   "cell_type": "code",
   "execution_count": null,
   "metadata": {},
   "outputs": [],
   "source": []
  }
 ],
 "metadata": {
  "language_info": {
   "name": "python",
   "pygments_lexer": "ipython3"
  }
 },
 "nbformat": 4,
 "nbformat_minor": 2
}
