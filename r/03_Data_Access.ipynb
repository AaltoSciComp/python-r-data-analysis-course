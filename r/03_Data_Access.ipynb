{
 "cells": [
  {
   "cell_type": "markdown",
   "metadata": {},
   "source": [
    "# Data access\n",
    "\n",
    "## CSV files\n",
    "\n",
    "There's multiple functions in the `readr` for CSV file reading. Let's use them on a dataset available in Kaggle that has homemade beer recipes from Brewer's Friend [[1]](https://www.kaggle.com/jtrofe/beer-recipes).\n",
    "\n",
    "Let's check the first few lines of the data with base R's `file` and `readLines`."
   ]
  },
  {
   "cell_type": "code",
   "execution_count": null,
   "metadata": {},
   "outputs": [],
   "source": [
    "example_file <- file(\"beers/recipeData.csv\",'r')\n",
    "first_lines <- readLines(example_file,n=2)\n",
    "close(example_file)\n",
    "\n",
    "print(first_lines)"
   ]
  },
  {
   "cell_type": "markdown",
   "metadata": {},
   "source": [
    "Before we choose which reader we want to use we need to check the format of the data. \n",
    "\n",
    "`readr` has predefined functions for the following data formats [[1]](http://readr.tidyverse.org/reference/read_delim.html):\n",
    "- `read_delim` parses generic data delimited by a character\n",
    "- `read_csv` assumes that the data is delimited by commas\n",
    "- `read_csv2` assumes that the data is delimited by semicolons\n",
    "- `read_tsv` assumes that the data is delimited by tabs\n",
    "\n",
    "In this case we want to use `read_csv`."
   ]
  },
  {
   "cell_type": "code",
   "execution_count": null,
   "metadata": {},
   "outputs": [],
   "source": [
    "library(tidyverse)\n",
    "\n",
    "beer_recipes <- read_csv(\"beers/recipeData.csv\")"
   ]
  },
  {
   "cell_type": "markdown",
   "metadata": {},
   "source": [
    "From the output one can see that `read_csv` tries to parse the datatype of the column automatically.\n",
    "\n",
    "By running `spec` one can see the full definitons."
   ]
  },
  {
   "cell_type": "code",
   "execution_count": null,
   "metadata": {},
   "outputs": [],
   "source": [
    "spec(beer_recipes)"
   ]
  },
  {
   "cell_type": "markdown",
   "metadata": {},
   "source": [
    "Many of the data columns seem to be characters instead of numbers. Let's use `col_types`-argument to specify a better definition."
   ]
  },
  {
   "cell_type": "code",
   "execution_count": null,
   "metadata": {},
   "outputs": [],
   "source": [
    "\n",
    "beer_recipes <- read_csv(\"beers/recipeData.csv\",\n",
    "                        col_types=cols(\n",
    "                          BeerID = col_integer(),\n",
    "                          Name = col_character(),\n",
    "                          URL = col_character(),\n",
    "                          Style = col_character(),\n",
    "                          StyleID = col_integer(),\n",
    "                          `Size(L)` = col_double(),\n",
    "                          OG = col_double(),\n",
    "                          FG = col_double(),\n",
    "                          ABV = col_double(),\n",
    "                          IBU = col_double(),\n",
    "                          Color = col_double(),\n",
    "                          BoilSize = col_double(),\n",
    "                          BoilTime = col_double(),\n",
    "                          BoilGravity = col_double(),\n",
    "                          Efficiency = col_double(),\n",
    "                          MashThickness = col_double(),\n",
    "                          SugarScale = col_character(),\n",
    "                          BrewMethod = col_character(),\n",
    "                          PitchRate = col_double(),\n",
    "                          PrimaryTemp = col_double(),\n",
    "                          PrimingMethod = col_character(),\n",
    "                          PrimingAmount = col_character()\n",
    "                        )\n",
    "                        )"
   ]
  },
  {
   "cell_type": "markdown",
   "metadata": {},
   "source": [
    "This produced a lot of problems. Let's check the problems with `problems`."
   ]
  },
  {
   "cell_type": "code",
   "execution_count": null,
   "metadata": {},
   "outputs": [],
   "source": [
    "problems(beer_recipes)"
   ]
  },
  {
   "cell_type": "markdown",
   "metadata": {},
   "source": [
    "Most of the problems seem to be related to _N/A_ not being a recognized name for `NA`. Let's add that to the initial read call with `na`-argument. "
   ]
  },
  {
   "cell_type": "code",
   "execution_count": null,
   "metadata": {},
   "outputs": [],
   "source": [
    "beer_recipes <- read_csv(\"beers/recipeData.csv\",na=c(\"\",\"NA\",\"N/A\"))\n",
    "\n",
    "spec(beer_recipes)"
   ]
  },
  {
   "cell_type": "markdown",
   "metadata": {},
   "source": [
    "Now most of the columns seem correct. Last column seems to include units (_oz_). Using mutate is probably easiest way of getting rid of them.\n",
    "\n",
    "Let' use `gsub` to remove it with regular expressions [[gsub]](http://stat.ethz.ch/R-manual/R-devel/library/base/html/grep.html).\n",
    "\n",
    "After that we can use `str` to check that our dataset looks fine."
   ]
  },
  {
   "cell_type": "code",
   "execution_count": null,
   "metadata": {},
   "outputs": [],
   "source": [
    "beer_recipes <- beer_recipes %>%\n",
    "    mutate(PrimingAmount=as.double(gsub(' oz$','',PrimingAmount)))\n",
    "\n",
    "str(beer_recipes)"
   ]
  },
  {
   "cell_type": "markdown",
   "metadata": {},
   "source": [
    "Let's say that we want to write the resulting `tibble` in a format that is easily readable in Excel.\n",
    "\n",
    "For this we'd want to use `write_excel_csv` (there are similar functions for normal csv, tsv etc.) [[write_excel_csv]](http://readr.tidyverse.org/reference/write_delim.html).  "
   ]
  },
  {
   "cell_type": "code",
   "execution_count": null,
   "metadata": {},
   "outputs": [],
   "source": [
    "write_excel_csv(beer_recipes, 'beer-recipes-excel-format.csv')"
   ]
  },
  {
   "cell_type": "markdown",
   "metadata": {},
   "source": [
    "# Feather\n",
    "\n",
    "Let's say you have a big dataset you have pre-processed with R, but want to analyze with Python. The new feather-format that uses Apache Arrow's data specification is created by the creators of Tidy-R and Pandas and it should be interoprable with both of them [[feather's page in Github]](https://github.com/wesm/feather).\n",
    "\n",
    "What matters the most is that it is fast and compact (because it is a binary data format).\n",
    "\n",
    "Using it is simple, just load `feather`-library an write data with `write_feather` [[write_feather]](https://cran.r-project.org/web/packages/feather/feather.pdf).\n",
    "\n",
    "Loading data is done with `read_feather`.\n",
    "\n",
    "Do note that more complex structures like nested tibbles do not necessarily fit into a feather."
   ]
  },
  {
   "cell_type": "code",
   "execution_count": null,
   "metadata": {},
   "outputs": [],
   "source": [
    "library(feather)\n",
    "\n",
    "write_feather(beer_recipes,'beer_recipes.feather')\n",
    "\n",
    "beer_recipes2 <- read_feather('beer_recipes.feather')"
   ]
  },
  {
   "cell_type": "markdown",
   "metadata": {},
   "source": [
    "## Database access\n",
    "\n",
    "There exists a package `DBI` that defines a common interface that can be used to access various different databases.\n",
    "\n",
    "We won't be going through them but if you're going to be working with e.g. big data owned by a company, this package might interest you."
   ]
  },
  {
   "cell_type": "markdown",
   "metadata": {},
   "source": [
    "# Exercise time:\n",
    "\n",
    "1. Modify column specifications for FIFA World Cup match data [[1]](https://www.kaggle.com/abecklas/fifa-world-cup). Use `col_datetime` in `col_types` to get a good specification for column _DateTime_ [[col_datetime]](http://readr.tidyverse.org/reference/parse_datetime.html). Use `col_factor` to make columns _Round_, _Stadium_, _City_, _HomeTeam_ and _AwayTeam_ into factors.\n",
    "2. Store the resulting tibble as a feather."
   ]
  },
  {
   "cell_type": "code",
   "execution_count": null,
   "metadata": {},
   "outputs": [],
   "source": [
    "fifa_matches <- read_csv(\"fifa/WorldCupMatches.csv\")"
   ]
  },
  {
   "cell_type": "markdown",
   "metadata": {},
   "source": [
    "# Solutions:\n",
    "\n",
    "## 1."
   ]
  },
  {
   "cell_type": "code",
   "execution_count": null,
   "metadata": {},
   "outputs": [],
   "source": [
    "fifa_matches <- read_csv(\"fifa/WorldCupMatches.csv\",\n",
    "                         col_types=cols(\n",
    "                             DateTime=col_datetime('%d%.%b%+%Y%+%R'),\n",
    "                             Round=col_factor(levels=NULL),\n",
    "                             Stadium=col_factor(levels=NULL),\n",
    "                             City=col_factor(levels=NULL),\n",
    "                             HomeTeam=col_factor(levels=NULL),\n",
    "                             AwayTeam=col_factor(levels=NULL)\n",
    "                         )\n",
    "                )\n",
    "\n",
    "str(fifa_matches)"
   ]
  },
  {
   "cell_type": "markdown",
   "metadata": {},
   "source": [
    "## 2."
   ]
  },
  {
   "cell_type": "code",
   "execution_count": null,
   "metadata": {},
   "outputs": [],
   "source": [
    "write_feather(fifa_matches,'fifa_matches.feather')"
   ]
  },
  {
   "cell_type": "code",
   "execution_count": null,
   "metadata": {},
   "outputs": [],
   "source": []
  }
 ],
 "metadata": {
  "language_info": {
   "name": "python",
   "pygments_lexer": "ipython3"
  }
 },
 "nbformat": 4,
 "nbformat_minor": 2
}
