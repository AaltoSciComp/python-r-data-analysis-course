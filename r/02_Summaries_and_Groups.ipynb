{
 "cells": [
  {
   "cell_type": "markdown",
   "metadata": {},
   "source": [
    "# Summaries and Groups\n",
    "\n",
    "The introduction focused largely on picking the data you wanted with `filter` and `select`; and reorganizing it with `gather` or `arrange`. In this notebook the focus is on analyzing the data. It's rarely the case that one can just plot the results from the data with no analysis."
   ]
  },
  {
   "cell_type": "markdown",
   "metadata": {},
   "source": [
    "## Summarize\n",
    "\n",
    "Let's analyze the famous `iris`-dataset containing data on flowers."
   ]
  },
  {
   "cell_type": "code",
   "execution_count": null,
   "metadata": {},
   "outputs": [],
   "source": [
    "library(tidyverse)\n",
    "\n",
    "data(iris)\n",
    "\n",
    "iris_tbl <- as_tibble(iris)\n",
    "\n",
    "print(iris_tbl)"
   ]
  },
  {
   "cell_type": "markdown",
   "metadata": {},
   "source": [
    "Let's say we want to analyze statistics e.g. mean, variance and correlation of petal widths/lengths. This means that we want to summarize rows (observations) into a single row with these mean values.\n",
    "\n",
    "To do this we `summarize` (or `summarise`) rows with functions that takes columns (variables) as their input ([[summarize]](http://dplyr.tidyverse.org/reference/summarise.html))."
   ]
  },
  {
   "cell_type": "code",
   "execution_count": null,
   "metadata": {},
   "outputs": [],
   "source": [
    "iris_tbl %>%\n",
    "    summarize(\n",
    "        Petal.Length_mean=mean(Petal.Length),\n",
    "        Petal.Width_mean=mean(Petal.Width),\n",
    "        Petal.Length_var=var(Petal.Length),\n",
    "        Petal.Width_var=var(Petal.Width),\n",
    "        Petal_cor=cor(Petal.Length,Petal.Width)\n",
    "    )\n"
   ]
  },
  {
   "cell_type": "markdown",
   "metadata": {},
   "source": [
    "For multiple variables/functions it is good to use `summarize_at` or `summarize_all` ([[summarize_at]](http://dplyr.tidyverse.org/reference/summarise_all.html)).\n",
    "\n",
    "Here `vars` selects variables, `contains` looks for substring from variable name and `funs` creates a list of function calls ([[vars]](http://dplyr.tidyverse.org/reference/vars.html), [[funs]](http://dplyr.tidyverse.org/reference/funs.html)).\n",
    "\n",
    "These do not work for functions that take multiple columns (like `cor`)."
   ]
  },
  {
   "cell_type": "code",
   "execution_count": null,
   "metadata": {},
   "outputs": [],
   "source": [
    "iris_tbl %>%\n",
    "    summarize_at(vars(contains('Petal')),funs(mean,var))\n",
    "\n",
    "iris_tbl %>%\n",
    "    select(-Species) %>%\n",
    "    summarize_all(funs(mean,var))"
   ]
  },
  {
   "cell_type": "markdown",
   "metadata": {},
   "source": [
    "One can also use oneliner functions with `.` used to mark the operated element. This can be useful with e.g. unit conversions.\n",
    "\n",
    "The following would mutate all numerical values from centimeters to inches [[mutate_if]](http://dplyr.tidyverse.org/reference/summarise_all.html)."
   ]
  },
  {
   "cell_type": "code",
   "execution_count": null,
   "metadata": {},
   "outputs": [],
   "source": [
    "iris_tbl %>%\n",
    "    mutate_if(is.numeric,funs(. / 2.54)) %>%\n",
    "    head()"
   ]
  },
  {
   "cell_type": "markdown",
   "metadata": {},
   "source": [
    "We can easily visualize the correlation of petal width/height with `ggplot` and `geom_smooth` ([[geom_smooth]](http://ggplot2.tidyverse.org/reference/geom_smooth.html))."
   ]
  },
  {
   "cell_type": "code",
   "execution_count": null,
   "metadata": {},
   "outputs": [],
   "source": [
    "iris_tbl %>%\n",
    "    ggplot(aes(x=Petal.Length,y=Petal.Width)) +\n",
    "    geom_point(shape=1) +\n",
    "    geom_smooth(method=lm)"
   ]
  },
  {
   "cell_type": "markdown",
   "metadata": {},
   "source": [
    "## Groups\n",
    "\n",
    "From the previous plot it is easy to see that the data is divided into clusters based on some unknown variable. For this reason we should try to group our analysis based on the same criterion.\n",
    "\n",
    "Let's try Species as it seems like natural category to use for grouping. Grouping can be done with `group_by` ([[group_by]](http://dplyr.tidyverse.org/reference/group_by.html))."
   ]
  },
  {
   "cell_type": "code",
   "execution_count": null,
   "metadata": {},
   "outputs": [],
   "source": [
    "iris_by_species <- iris_tbl %>%\n",
    "    group_by(Species)\n",
    "print(iris_by_species)"
   ]
  },
  {
   "cell_type": "markdown",
   "metadata": {},
   "source": [
    "Do note that we have assigned this grouped Tibble into a new variable with `<-` as we do not want to do the grouping each time we run some analysis on the dataset.\n",
    "\n",
    "In R objects are immutable, which means that function calls do not modify arguments. Thus only way of storing modifications made by functions is to assign the modified object into a variable.\n",
    "\n",
    "Now let's run the same analysis and plotting that we did before on this dataset:"
   ]
  },
  {
   "cell_type": "code",
   "execution_count": null,
   "metadata": {},
   "outputs": [],
   "source": [
    "iris_by_species %>%\n",
    "    summarize(\n",
    "        Petal.Length_mean=mean(Petal.Length),\n",
    "        Petal.Width_mean=mean(Petal.Width),\n",
    "        Petal.Length_var=var(Petal.Length),\n",
    "        Petal.Width_var=var(Petal.Width),\n",
    "        Petal_cor=cor(Petal.Length,Petal.Width)\n",
    "    )\n",
    "\n",
    "iris_by_species %>%\n",
    "    ggplot(aes(x=Petal.Length,y=Petal.Width,color=Species)) +\n",
    "    geom_point(shape=1) +\n",
    "    geom_smooth(method=lm)"
   ]
  },
  {
   "cell_type": "markdown",
   "metadata": {},
   "source": [
    "By specifying `color=Species` we get three subplots that clearly visualize the three families of flowers. "
   ]
  },
  {
   "cell_type": "markdown",
   "metadata": {},
   "source": [
    "# Exercise time:\n",
    "\n",
    "Do these exercises to `mtcars`-dataset intialized below (do note the use of `rownames_to_column` that will store row names from `data.frame` into a column in `tibble` [[rownames_to_column]](https://tibble.tidyverse.org/reference/rownames.html)):\n",
    "\n",
    "1. Use `mutate` to calculate litres per 100 km (e.g. lp100km) as mpg is a bad unit to use for fuel consumption (Ref: [[1]](http://science.sciencemag.org/content/320/5883/1593.full?ijkey=3pScQm7pQBzqs&keytype=ref&siteid=sci). Conversion factor is `lp100km=235.214583/mpg`.\n",
    "2. Calculate correlation of horsepower and quarter mile time (`qsec`). Plot scatter plot and a linear fit.\n",
    "3. Group data based on cylinder numbers. Calculate correlation between weight and l/100km for each group. Plot scatter plots with different colours for each group."
   ]
  },
  {
   "cell_type": "code",
   "execution_count": null,
   "metadata": {},
   "outputs": [],
   "source": [
    "data(mtcars)\n",
    "\n",
    "mtcars_tbl <- as_tibble(rownames_to_column(mtcars,var='model'))\n",
    "\n",
    "str(mtcars_tbl)"
   ]
  },
  {
   "cell_type": "markdown",
   "metadata": {},
   "source": [
    "# Solutions:\n",
    "\n",
    "## 1."
   ]
  },
  {
   "cell_type": "code",
   "execution_count": null,
   "metadata": {},
   "outputs": [],
   "source": [
    "mtcars_tbl <- mtcars_tbl %>%\n",
    "    mutate(lp100km=235.214583/mpg)\n",
    "\n",
    "str(mtcars_tbl)"
   ]
  },
  {
   "cell_type": "markdown",
   "metadata": {},
   "source": [
    "## 2."
   ]
  },
  {
   "cell_type": "code",
   "execution_count": null,
   "metadata": {},
   "outputs": [],
   "source": [
    "mtcars_tbl %>%\n",
    "    summarize(hp_qsec_cor=cor(hp,qsec))\n",
    "\n",
    "mtcars_tbl %>%\n",
    "    ggplot(aes(x=hp,y=qsec)) +\n",
    "    geom_point() +\n",
    "    geom_smooth(method=lm)"
   ]
  },
  {
   "cell_type": "markdown",
   "metadata": {},
   "source": [
    "## 3."
   ]
  },
  {
   "cell_type": "code",
   "execution_count": null,
   "metadata": {},
   "outputs": [],
   "source": [
    "mtcars_grouped_by_cyl <- mtcars_tbl %>%\n",
    "    group_by(cyl)\n",
    "\n",
    "mtcars_grouped_by_cyl %>%\n",
    "    summarize(wt_lp100km_cor=cor(wt,lp100km))\n",
    "\n",
    "mtcars_grouped_by_cyl %>%\n",
    "    ggplot(aes(x=wt,y=lp100km,color=factor(cyl))) +\n",
    "    geom_point() +\n",
    "    geom_smooth(method=lm)"
   ]
  }
 ],
 "metadata": {
  "language_info": {
   "name": "python",
   "pygments_lexer": "ipython3"
  }
 },
 "nbformat": 4,
 "nbformat_minor": 2
}
