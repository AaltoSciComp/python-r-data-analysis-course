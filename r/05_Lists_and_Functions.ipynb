{
 "cells": [
  {
   "cell_type": "markdown",
   "metadata": {},
   "source": [
    "# Lists and Functions \n",
    "\n",
    "## Lists\n",
    "\n",
    "`tibble`s are very powerful, but as the data in them is assumed to be tabular, they are not the most flexible of data containers.\n",
    "\n",
    "In some cases you need a `list`. \n",
    "\n",
    "`list` is something between *list* and *dict* in Python. Compared to vectors it can have any data types in it, even other lists."
   ]
  },
  {
   "cell_type": "code",
   "execution_count": null,
   "metadata": {},
   "outputs": [],
   "source": [
    "example_list <- list('a',3L,4.3,3+2i, list('b'))\n",
    "str(example_list)"
   ]
  },
  {
   "cell_type": "markdown",
   "metadata": {},
   "source": [
    "`list` can also have named elements. During list creation they can be given as keyword arguments to the function call.\n",
    "\n",
    "New elements can also be created with `$name`.\n",
    "\n",
    "After `list` has been created there's quite a few ways to access its contents:\n",
    "- `[ ]` returns a slice of the list that keeps the names intact. Thus it always returns a list.\n",
    "- `[[ ]]` or `$` returns the value stored in key. Type of the object depends on the stored object."
   ]
  },
  {
   "cell_type": "code",
   "execution_count": null,
   "metadata": {},
   "outputs": [],
   "source": [
    "# Initialize a list with various data types\n",
    "example_list2 <- list(3L,42.4,something='nothing',c(13.2,32.2),boolean=TRUE, l=list(32.2,1.6))\n",
    "\n",
    "# Add a new variable to the list\n",
    "example_list2$variable <- 3.4\n",
    "\n",
    "# Return a slice of the list\n",
    "print('Slice:')\n",
    "example_list2['something']\n",
    "class(example_list2['something'])\n",
    "\n",
    "# Return the value of 'something'\n",
    "print('Value:')\n",
    "example_list2[['something']]\n",
    "class(example_list2[['something']])\n",
    "example_list2$something\n",
    "class(example_list2$something)\n",
    "\n",
    "print('The whole list')\n",
    "\n",
    "# Print the list. Note that the named values have indices.\n",
    "print(example_list2)"
   ]
  },
  {
   "cell_type": "markdown",
   "metadata": {},
   "source": [
    "`tibble` is an extension to `data.frame`, which in turn is an extension to `list`. Thus these work with `tibble`s as well. We've been avoiding them as modern R uses procedural coding in order to access the elements. However, in some cases it is easier to access columns of `tibble`s with these."
   ]
  },
  {
   "cell_type": "markdown",
   "metadata": {},
   "source": [
    "## Functions\n",
    "\n",
    "R is a highly procedural language. This means that most of the time you'll modify data through function calls.\n",
    "\n",
    "This applies to loops and iteration as well. When encountered with a *do this for all data presented here*-situation, R programmers rarely turn to `for` or `while` loops. Instead, they use `map`- or `apply`-functions.\n",
    "\n",
    "A function is defined into a variable with the assignment operator `<-` and the `function`-statement:"
   ]
  },
  {
   "cell_type": "code",
   "execution_count": null,
   "metadata": {},
   "outputs": [],
   "source": [
    "example_function <- function (argument, optional_argument='optional not set') {\n",
    "    print(argument)\n",
    "    print(optional_argument)\n",
    "    return(0)\n",
    "}\n",
    "\n",
    "# Do not give an optional argument\n",
    "example_function('test')\n",
    "# Give arguments with positional placement\n",
    "example_function('test2','optional set')\n",
    "# Give arguments with keywords\n",
    "example_function(optional_argument='optional_set3',argument='test3')\n",
    "# Missing an argument returns an error, catch it with try()\n",
    "print(try(example_function()))"
   ]
  },
  {
   "cell_type": "markdown",
   "metadata": {},
   "source": [
    "Arguments are specified in the function definition. Ones with default values are considered optional. Positional arguments are evaluated from left to right. During function call one can also specify arguments by giving their names.\n",
    "\n",
    "Output of the function call is returned with a call to the `return`-function. One can also use `invisible` to return the output only if it asked during function call. Returning output is especially important if you want to write a function that works with the Tidyverse pipe. If you haven't specified a `return` or `invisible` statement, the last output of the function is returned as `invisible`.\n",
    "\n",
    "It is important to know that in R all objects are immutable. This means that if you provide a function with an object, R will copy this object once it knows it will be accessed (lazy evaluation) and any changes you make to this object are not done to the original object unless you assign the result to the original object.\n",
    "\n",
    "All R-functions do their work in an environment. If some variable has not been set in that specific environment, it will look to the environment that made the function call. Any change to these variables is made to the environment of the function."
   ]
  },
  {
   "cell_type": "code",
   "execution_count": null,
   "metadata": {},
   "outputs": [],
   "source": [
    "very_secret_key <- 'this is a very secret key indeed' \n",
    "\n",
    "peek_at_the_secret_key <- function() {\n",
    "    print('I know that your secret key is:')\n",
    "    print(very_secret_key)\n",
    "}\n",
    "\n",
    "modify_the_secret_key <- function() {\n",
    "    very_secret_key <- 'I changed your key!'\n",
    "}\n",
    "\n",
    "# This works, function can access global environment\n",
    "peek_at_the_secret_key()\n",
    "\n",
    "# This does not work, function will write to its own environment\n",
    "modify_the_secret_key()\n",
    "\n",
    "very_secret_key"
   ]
  },
  {
   "cell_type": "markdown",
   "metadata": {},
   "source": [
    "## Oneliner functions\n",
    "\n",
    "One-liner functions can be used to create shorter code with less function definitions. By using `~` one creates a callable function and `.` refers to the element that is currently operated upon.\n",
    "\n",
    "One can also store the function created in this way into a variable."
   ]
  },
  {
   "cell_type": "code",
   "execution_count": null,
   "metadata": {},
   "outputs": [],
   "source": [
    "library(tidyverse)\n",
    "\n",
    "rename_x_to_z_long <- function(name) {\n",
    "    gsub('x','z',name)\n",
    "}\n",
    "\n",
    "rename_x_to_z_shorter <- function(name) gsub('x','z',name)\n",
    "\n",
    "rename_x_to_z_even_shorter <- ~gsub('x','z',.)\n",
    "\n",
    "a <- tibble(x=1)\n",
    "\n",
    "a %>%\n",
    "    rename_all(rename_x_to_z_long)\n",
    "\n",
    "a %>%\n",
    "    rename_all(rename_x_to_z_shorter)\n",
    "\n",
    "a %>%\n",
    "    rename_all(rename_x_to_z_even_shorter)\n",
    "\n",
    "a %>%\n",
    "    rename_all(~gsub('x','z',.))"
   ]
  }
 ],
 "metadata": {
  "language_info": {
   "name": "python",
   "pygments_lexer": "ipython3"
  }
 },
 "nbformat": 4,
 "nbformat_minor": 2
}
