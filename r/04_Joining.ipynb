{
 "cells": [
  {
   "cell_type": "markdown",
   "metadata": {},
   "source": [
    "# Joining data\n",
    "\n",
    "Quite often one encounters a situation where data is not stored in one table, but in multiple ones with some shared columns.\n",
    "\n",
    "In these situations you can use join-functions like `inner_join`, `left_join`, `right_join` etc. to join the tables based on values in some column.\n",
    "\n",
    "\n",
    "Let's say that we want check the effect of weather on crime in Vancouver. From Kaggle we get a data set of hourly weather data of cities in US and Canada and a data set of crime in Vancouver.[[1]](https://www.kaggle.com/selfishgene/historical-hourly-weather-data) [[2]](https://www.kaggle.com/wosaku/crime-in-vancouver)\n",
    "\n",
    "The weather-data is organized in individual .csv-files with data for a city stored in column named after the city. "
   ]
  },
  {
   "cell_type": "code",
   "execution_count": null,
   "metadata": {},
   "outputs": [],
   "source": [
    "library(tidyverse)\n",
    "\n",
    "temperature_vancouver <- read_csv('historical-hourly-weather-data/temperature.csv') %>%\n",
    "    # Remove hours from datetime\n",
    "    mutate(date=format(datetime,'%Y-%m-%d')) %>%    \n",
    "    # Covert date-variables into Date-objects\n",
    "    mutate(date=as.Date(date)) %>%\n",
    "    # Take only Vancouver column and date\n",
    "    select(date,temperature=Vancouver) %>%\n",
    "    # Remove nan's from temperature\n",
    "    filter(!is.na(temperature)) %>%\n",
    "    # Convert temperature from K to C\n",
    "    mutate(temperature=temperature - 272.15) %>%\n",
    "    # Group by date\n",
    "    group_by(date) %>%\n",
    "    # Get the mean temperature of each day\n",
    "    summarize_all(mean)\n",
    "\n",
    "print(temperature_vancouver)"
   ]
  },
  {
   "cell_type": "markdown",
   "metadata": {},
   "source": [
    "The crime-statistics are stored in a .csv-file with times given as individual column. To parse a single date from the columns we use `make_date`-function from `lubridate`-package [[make_date]](https://www.rdocumentation.org/packages/lubridate/versions/1.7.3/topics/make_datetime).\n",
    "\n",
    "After this `tally` is used to calculate the number of observations per date [[tally]](https://dplyr.tidyverse.org/reference/tally.html)."
   ]
  },
  {
   "cell_type": "code",
   "execution_count": null,
   "metadata": {},
   "outputs": [],
   "source": [
    "library(lubridate)\n",
    "\n",
    "crimes_vancouver <- read_csv('vancouver-crime/crime.csv') %>%\n",
    "    # Convert individual columns into a date\n",
    "    mutate(date=make_date(YEAR,MONTH,DAY)) %>%\n",
    "    # Arrange and group based on date\n",
    "    arrange(date) %>%\n",
    "    group_by(date) %>%\n",
    "    # Calculate number of crimes / date\n",
    "    tally()\n",
    "\n",
    "print(crimes_vancouver)"
   ]
  },
  {
   "cell_type": "markdown",
   "metadata": {},
   "source": [
    "Now we want to join the datasets based on the dates that are present in both datasets. For this let's use `inner_join` [[inner_join]](https://dplyr.tidyverse.org/reference/join.html).\n",
    "\n",
    "After joing the data we can visualize the results as a scatter plot."
   ]
  },
  {
   "cell_type": "code",
   "execution_count": null,
   "metadata": {},
   "outputs": [],
   "source": [
    "crime_temperature <- inner_join(crimes_vancouver,temperature_vancouver,by=c('date'))\n",
    "\n",
    "crime_temperature %>%\n",
    "    ggplot(aes(x=temperature,y=n)) +\n",
    "    geom_point() +\n",
    "    labs(x='Temperature in Vancouver', y='Number of crimes in Vancouver')"
   ]
  },
  {
   "cell_type": "markdown",
   "metadata": {},
   "source": [
    "Apparently crime happens in Vancouver in all temperatures."
   ]
  }
 ],
 "metadata": {
  "language_info": {
   "name": "python",
   "pygments_lexer": "ipython3"
  }
 },
 "nbformat": 4,
 "nbformat_minor": 2
}
