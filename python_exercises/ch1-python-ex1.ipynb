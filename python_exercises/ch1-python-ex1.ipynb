{
 "cells": [
  {
   "cell_type": "markdown",
   "metadata": {},
   "source": [
    "# Chapter 1 \n",
    "\n",
    "## Exercise 1\n",
    "\n",
    "This simple data analysis pipeline uses a [decision tree](https://en.wikipedia.org/wiki/Decision_tree_learning) model to classify flowers from the famous [iris dataset](https://archive.ics.uci.edu/ml/datasets/iris).\n",
    "\n",
    "Questions:\n",
    "\n",
    "1. Look through the example pipeline. Mark which cells belong to which categories in this categorization:\n",
    "    - Data perparation and loading\n",
    "    - Modeling\n",
    "    - Evaluation\n",
    "    - Presentation\n",
    "2. Try to determine the pieces of the code that are **unique** to this specific dataset. Discuss how you would generalize this pipeline to other datasets."
   ]
  },
  {
   "cell_type": "code",
   "execution_count": 1,
   "metadata": {},
   "outputs": [],
   "source": [
    "# Cell 1\n",
    "import pandas as pd\n",
    "import matplotlib.pyplot as mpl\n",
    "import seaborn as sb\n",
    "from numpy.random import RandomState\n",
    "from sklearn.model_selection import train_test_split\n",
    "from sklearn.tree import DecisionTreeClassifier, export_text\n",
    "from sklearn.metrics import accuracy_score, confusion_matrix"
   ]
  },
  {
   "cell_type": "code",
   "execution_count": 2,
   "metadata": {},
   "outputs": [
    {
     "name": "stdout",
     "output_type": "stream",
     "text": [
      "   Sepal.Length  Sepal.Width  Petal.Length  Petal.Width Species  id\n",
      "0           5.1          3.5           1.4          0.2  setosa   0\n",
      "1           4.9          3.0           1.4          0.2  setosa   1\n",
      "2           4.7          3.2           1.3          0.2  setosa   2\n",
      "3           4.6          3.1           1.5          0.2  setosa   3\n",
      "4           5.0          3.6           1.4          0.2  setosa   4\n"
     ]
    }
   ],
   "source": [
    "# Cell 2\n",
    "iris = pd.read_csv('../data/iris.data', names=['Sepal.Length', 'Sepal.Width', 'Petal.Length', 'Petal.Width', 'Species'])\n",
    "iris['Species'] = iris['Species'].map(lambda x: x.replace('Iris-','')).astype('category')\n",
    "iris['id'] = iris.index\n",
    "print(iris.head())"
   ]
  },
  {
   "cell_type": "code",
   "execution_count": 3,
   "metadata": {},
   "outputs": [
    {
     "name": "stdout",
     "output_type": "stream",
     "text": [
      "   Sepal.Length  Sepal.Width  Petal.Length  Petal.Width     Species   id\n",
      "0           6.1          2.8           4.7          1.2  versicolor   73\n",
      "1           5.7          3.8           1.7          0.3      setosa   18\n",
      "2           7.7          2.6           6.9          2.3   virginica  118\n",
      "3           6.0          2.9           4.5          1.5  versicolor   78\n",
      "4           6.8          2.8           4.8          1.4  versicolor   76\n",
      "   Sepal.Length  Sepal.Width  Petal.Length  Petal.Width     Species\n",
      "0           6.1          2.8           4.7          1.2  versicolor\n",
      "1           5.7          3.8           1.7          0.3      setosa\n",
      "2           7.7          2.6           6.9          2.3   virginica\n",
      "3           6.0          2.9           4.5          1.5  versicolor\n",
      "4           6.8          2.8           4.8          1.4  versicolor\n"
     ]
    }
   ],
   "source": [
    "# Cell 3\n",
    "random_state = RandomState(seed=42)\n",
    "iris = iris.sample(frac=1, random_state=random_state).reset_index(drop=True)\n",
    "print(iris.head())\n",
    "iris = iris.drop('id', axis=1)\n",
    "print(iris.head())"
   ]
  },
  {
   "cell_type": "code",
   "execution_count": 4,
   "metadata": {},
   "outputs": [
    {
     "name": "stdout",
     "output_type": "stream",
     "text": [
      "Species\n",
      "setosa        40\n",
      "versicolor    39\n",
      "virginica     41\n",
      "dtype: int64\n",
      "Species\n",
      "setosa        10\n",
      "versicolor    11\n",
      "virginica      9\n",
      "dtype: int64\n"
     ]
    }
   ],
   "source": [
    "# Cell 4\n",
    "train_split, test_split = train_test_split(iris, train_size=0.8, random_state=random_state)\n",
    "print(train_split.groupby('Species').size())\n",
    "print(test_split.groupby('Species').size())"
   ]
  },
  {
   "cell_type": "code",
   "execution_count": 5,
   "metadata": {},
   "outputs": [
    {
     "name": "stdout",
     "output_type": "stream",
     "text": [
      "|--- Petal.Width <= 0.80\n",
      "|   |--- class: setosa\n",
      "|--- Petal.Width >  0.80\n",
      "|   |--- Petal.Length <= 4.95\n",
      "|   |   |--- Petal.Width <= 1.70\n",
      "|   |   |   |--- class: versicolor\n",
      "|   |   |--- Petal.Width >  1.70\n",
      "|   |   |   |--- Sepal.Width <= 3.10\n",
      "|   |   |   |   |--- class: virginica\n",
      "|   |   |   |--- Sepal.Width >  3.10\n",
      "|   |   |   |   |--- class: versicolor\n",
      "|   |--- Petal.Length >  4.95\n",
      "|   |   |--- Petal.Width <= 1.70\n",
      "|   |   |   |--- Petal.Length <= 5.35\n",
      "|   |   |   |   |--- Petal.Length <= 5.05\n",
      "|   |   |   |   |   |--- class: virginica\n",
      "|   |   |   |   |--- Petal.Length >  5.05\n",
      "|   |   |   |   |   |--- class: versicolor\n",
      "|   |   |   |--- Petal.Length >  5.35\n",
      "|   |   |   |   |--- class: virginica\n",
      "|   |   |--- Petal.Width >  1.70\n",
      "|   |   |   |--- class: virginica\n",
      "\n"
     ]
    }
   ],
   "source": [
    "# Cell \n",
    "tree = DecisionTreeClassifier(random_state=183)\n",
    "train_data = train_split.drop('Species', axis=1)\n",
    "train_target = train_split['Species']\n",
    "fitted_tree = tree.fit(train_data, train_target)\n",
    "print(export_text(fitted_tree, feature_names=list(train_data.columns)))"
   ]
  },
  {
   "cell_type": "code",
   "execution_count": 6,
   "metadata": {},
   "outputs": [],
   "source": [
    "# Cell 6\n",
    "test_data = test_split.drop('Species', axis=1)\n",
    "test_target = test_split['Species']\n",
    "predicted = fitted_tree.predict(test_data)\n",
    "success = test_target == predicted"
   ]
  },
  {
   "cell_type": "code",
   "execution_count": 7,
   "metadata": {},
   "outputs": [
    {
     "data": {
      "text/plain": [
       "0.9333333333333333"
      ]
     },
     "execution_count": 7,
     "metadata": {},
     "output_type": "execute_result"
    }
   ],
   "source": [
    "confusion_matrix(test_target, predicted)\n",
    "accuracy_score(test_target, predicted)"
   ]
  },
  {
   "cell_type": "code",
   "execution_count": 8,
   "metadata": {},
   "outputs": [
    {
     "data": {
      "text/plain": [
       "<AxesSubplot:xlabel='Sepal.Width', ylabel='Sepal.Length'>"
      ]
     },
     "execution_count": 8,
     "metadata": {},
     "output_type": "execute_result"
    },
    {
     "data": {
      "image/png": "[encoded data removed]",
      "text/plain": [
       "<Figure size 468x468 with 1 Axes>"
      ]
     },
     "metadata": {
      "needs_background": "light"
     },
     "output_type": "display_data"
    },
    {
     "data": {
      "image/png": "[encoded data removed]",
      "text/plain": [
       "<Figure size 468x468 with 1 Axes>"
      ]
     },
     "metadata": {
      "needs_background": "light"
     },
     "output_type": "display_data"
    }
   ],
   "source": [
    "# Cell 6\n",
    "petal_plot, petal_plot_ax = mpl.subplots(figsize=(6.5, 6.5))\n",
    "sb.scatterplot(x='Petal.Width', y='Petal.Length', data=test_data[success])\n",
    "sb.scatterplot(x='Petal.Width', y='Petal.Length', data=test_data[-success])\n",
    "petal_plot, petal_plot_ax = mpl.subplots(figsize=(6.5, 6.5))\n",
    "sb.scatterplot(x='Sepal.Width', y='Sepal.Length', data=test_data[success])\n",
    "sb.scatterplot(x='Sepal.Width', y='Sepal.Length', data=test_data[-success])"
   ]
  },
  {
   "cell_type": "code",
   "execution_count": null,
   "metadata": {},
   "outputs": [],
   "source": []
  }
 ],
 "metadata": {
  "kernelspec": {
   "display_name": "Python 3",
   "language": "python",
   "name": "python3"
  },
  "language_info": {
   "codemirror_mode": {
    "name": "ipython",
    "version": 3
   },
   "file_extension": ".py",
   "mimetype": "text/x-python",
   "name": "python",
   "nbconvert_exporter": "python",
   "pygments_lexer": "ipython3",
   "version": "3.8.5"
  }
 },
 "nbformat": 4,
 "nbformat_minor": 4
}
