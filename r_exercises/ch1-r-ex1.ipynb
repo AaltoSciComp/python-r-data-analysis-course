{
 "cells": [
  {
   "cell_type": "markdown",
   "metadata": {},
   "source": [
    "# Chapter 1 \n",
    "\n",
    "## Exercise 1\n",
    "\n",
    "This simple data analysis pipeline uses a [decision tree](https://en.wikipedia.org/wiki/Decision_tree_learning) model to classify flowers from the famous [iris dataset](https://archive.ics.uci.edu/ml/datasets/iris).\n",
    "\n",
    "Questions:\n",
    "\n",
    "1. Look through the example pipeline. Mark which cells belong to which categories in this categorization:\n",
    "    - Data perparation and loading\n",
    "    - Modeling\n",
    "    - Evaluation\n",
    "    - Presentation\n",
    "2. Try to determine the pieces of the code that are **unique** to this specific dataset. Discuss how you would generalize this pipeline to other datasets."
   ]
  },
  {
   "cell_type": "code",
   "execution_count": 228,
   "metadata": {},
   "outputs": [],
   "source": [
    "library(tidyverse)\n",
    "library(broom)\n",
    "library(modelr)"
   ]
  },
  {
   "cell_type": "code",
   "execution_count": 229,
   "metadata": {},
   "outputs": [
    {
     "name": "stderr",
     "output_type": "stream",
     "text": [
      "Parsed with column specification:\n",
      "cols(\n",
      "  Sepal.Length = col_double(),\n",
      "  Sepal.Width = col_double(),\n",
      "  Petal.Length = col_double(),\n",
      "  Petal.Width = col_double(),\n",
      "  Species = col_character()\n",
      ")\n"
     ]
    },
    {
     "name": "stdout",
     "output_type": "stream",
     "text": [
      "# A tibble: 150 x 6\n",
      "      id Sepal.Length Sepal.Width Petal.Length Petal.Width Species\n",
      "   <int>        <dbl>       <dbl>        <dbl>       <dbl> <fct>  \n",
      " 1     1          5.1         3.5          1.4         0.2 setosa \n",
      " 2     2          4.9         3            1.4         0.2 setosa \n",
      " 3     3          4.7         3.2          1.3         0.2 setosa \n",
      " 4     4          4.6         3.1          1.5         0.2 setosa \n",
      " 5     5          5           3.6          1.4         0.2 setosa \n",
      " 6     6          5.4         3.9          1.7         0.4 setosa \n",
      " 7     7          4.6         3.4          1.4         0.3 setosa \n",
      " 8     8          5           3.4          1.5         0.2 setosa \n",
      " 9     9          4.4         2.9          1.4         0.2 setosa \n",
      "10    10          4.9         3.1          1.5         0.1 setosa \n",
      "# … with 140 more rows\n"
     ]
    }
   ],
   "source": [
    "iris_tbl <- read_csv('../data/iris.data', col_names=c('Sepal.Length', 'Sepal.Width', 'Petal.Length', 'Petal.Width', 'Species')) %>%\n",
    "    rowid_to_column('id') %>%\n",
    "    mutate(Species=str_remove(Species, 'Iris-')) %>%\n",
    "    mutate(Species=as.factor(Species))\n",
    "print(iris_tbl)"
   ]
  },
  {
   "cell_type": "code",
   "execution_count": 230,
   "metadata": {},
   "outputs": [
    {
     "name": "stdout",
     "output_type": "stream",
     "text": [
      "# A tibble: 150 x 6\n",
      "      id Sepal.Length Sepal.Width Petal.Length Petal.Width Species   \n",
      "   <int>        <dbl>       <dbl>        <dbl>       <dbl> <fct>     \n",
      " 1    49          5.3         3.7          1.5         0.2 setosa    \n",
      " 2    65          5.6         2.9          3.6         1.3 versicolor\n",
      " 3    74          6.1         2.8          4.7         1.2 versicolor\n",
      " 4   146          6.7         3            5.2         2.3 virginica \n",
      " 5   122          5.6         2.8          4.9         2   virginica \n",
      " 6   150          5.9         3            5.1         1.8 virginica \n",
      " 7   128          6.1         3            4.9         1.8 virginica \n",
      " 8    47          5.1         3.8          1.6         0.2 setosa    \n",
      " 9    24          5.1         3.3          1.7         0.5 setosa    \n",
      "10    71          5.9         3.2          4.8         1.8 versicolor\n",
      "# … with 140 more rows\n",
      "# A tibble: 150 x 5\n",
      "   Sepal.Length Sepal.Width Petal.Length Petal.Width Species   \n",
      "          <dbl>       <dbl>        <dbl>       <dbl> <fct>     \n",
      " 1          5.3         3.7          1.5         0.2 setosa    \n",
      " 2          5.6         2.9          3.6         1.3 versicolor\n",
      " 3          6.1         2.8          4.7         1.2 versicolor\n",
      " 4          6.7         3            5.2         2.3 virginica \n",
      " 5          5.6         2.8          4.9         2   virginica \n",
      " 6          5.9         3            5.1         1.8 virginica \n",
      " 7          6.1         3            4.9         1.8 virginica \n",
      " 8          5.1         3.8          1.6         0.2 setosa    \n",
      " 9          5.1         3.3          1.7         0.5 setosa    \n",
      "10          5.9         3.2          4.8         1.8 versicolor\n",
      "# … with 140 more rows\n"
     ]
    }
   ],
   "source": [
    "set.seed(42)\n",
    "sample_ix <- sample(nrow(iris_tbl))\n",
    "iris_tbl <- iris_tbl[sample_ix,]\n",
    "print(iris_tbl)\n",
    "iris_tbl <- select(iris_tbl, -id)\n",
    "print(iris_tbl)"
   ]
  },
  {
   "cell_type": "code",
   "execution_count": 231,
   "metadata": {},
   "outputs": [
    {
     "data": {
      "text/plain": [
       "$train\n",
       "<resample [119 x 5]> 1, 2, 4, 6, 7, 8, 9, 10, 11, 12, ...\n",
       "\n",
       "$test\n",
       "<resample [31 x 5]> 3, 5, 15, 16, 24, 29, 32, 46, 49, 55, ...\n"
      ]
     },
     "metadata": {},
     "output_type": "display_data"
    }
   ],
   "source": [
    "iris_split <- iris_tbl %>%\n",
    "    resample_partition(c(train=0.8, test=0.2))\n",
    "head(iris_split)"
   ]
  },
  {
   "cell_type": "code",
   "execution_count": 232,
   "metadata": {},
   "outputs": [
    {
     "data": {
      "text/html": [
       "<table>\n",
       "<thead><tr><th scope=col>Species</th><th scope=col>n</th></tr></thead>\n",
       "<tbody>\n",
       "\t<tr><td>setosa    </td><td>38        </td></tr>\n",
       "\t<tr><td>versicolor</td><td>40        </td></tr>\n",
       "\t<tr><td>virginica </td><td>41        </td></tr>\n",
       "</tbody>\n",
       "</table>\n"
      ],
      "text/latex": [
       "\\begin{tabular}{r|ll}\n",
       " Species & n\\\\\n",
       "\\hline\n",
       "\t setosa     & 38        \\\\\n",
       "\t versicolor & 40        \\\\\n",
       "\t virginica  & 41        \\\\\n",
       "\\end{tabular}\n"
      ],
      "text/markdown": [
       "\n",
       "| Species | n |\n",
       "|---|---|\n",
       "| setosa     | 38         |\n",
       "| versicolor | 40         |\n",
       "| virginica  | 41         |\n",
       "\n"
      ],
      "text/plain": [
       "  Species    n \n",
       "1 setosa     38\n",
       "2 versicolor 40\n",
       "3 virginica  41"
      ]
     },
     "metadata": {},
     "output_type": "display_data"
    },
    {
     "data": {
      "text/html": [
       "<table>\n",
       "<thead><tr><th scope=col>Species</th><th scope=col>n</th></tr></thead>\n",
       "<tbody>\n",
       "\t<tr><td>setosa    </td><td>12        </td></tr>\n",
       "\t<tr><td>versicolor</td><td>10        </td></tr>\n",
       "\t<tr><td>virginica </td><td> 9        </td></tr>\n",
       "</tbody>\n",
       "</table>\n"
      ],
      "text/latex": [
       "\\begin{tabular}{r|ll}\n",
       " Species & n\\\\\n",
       "\\hline\n",
       "\t setosa     & 12        \\\\\n",
       "\t versicolor & 10        \\\\\n",
       "\t virginica  &  9        \\\\\n",
       "\\end{tabular}\n"
      ],
      "text/markdown": [
       "\n",
       "| Species | n |\n",
       "|---|---|\n",
       "| setosa     | 12         |\n",
       "| versicolor | 10         |\n",
       "| virginica  |  9         |\n",
       "\n"
      ],
      "text/plain": [
       "  Species    n \n",
       "1 setosa     12\n",
       "2 versicolor 10\n",
       "3 virginica   9"
      ]
     },
     "metadata": {},
     "output_type": "display_data"
    }
   ],
   "source": [
    "iris_split$train %>%\n",
    "    as_tibble() %>%\n",
    "    group_by(Species) %>%\n",
    "    tally()\n",
    "\n",
    "iris_split$test %>%\n",
    "    as_tibble() %>%\n",
    "    group_by(Species) %>%\n",
    "    tally()"
   ]
  },
  {
   "cell_type": "code",
   "execution_count": 233,
   "metadata": {},
   "outputs": [],
   "source": [
    "library(rpart)"
   ]
  },
  {
   "cell_type": "code",
   "execution_count": 243,
   "metadata": {},
   "outputs": [],
   "source": [
    "fitted_tree <- iris_split$train %>%\n",
    "    as_tibble() %>%\n",
    "#    select(-Species) %>%\n",
    "#    rpart(species_id ~ ., data=.)\n",
    "    rpart(Species ~ ., data=., method='class')"
   ]
  },
  {
   "cell_type": "code",
   "execution_count": 244,
   "metadata": {},
   "outputs": [],
   "source": [
    "iris_fitted <- iris_split$test %>%\n",
    "    as_tibble() %>%\n",
    "    mutate(Prediction = predict(fitted_tree, newdata=., type='class'))\n",
    "    #mutate(prediction_species = as.factor(prediction, levels=Species.levels))"
   ]
  },
  {
   "cell_type": "code",
   "execution_count": 245,
   "metadata": {},
   "outputs": [
    {
     "data": {
      "text/html": [
       "<table>\n",
       "<thead><tr><th scope=col>Sepal.Length</th><th scope=col>Sepal.Width</th><th scope=col>Petal.Length</th><th scope=col>Petal.Width</th><th scope=col>Species</th><th scope=col>Prediction</th></tr></thead>\n",
       "<tbody>\n",
       "\t<tr><td>6,1       </td><td>2,8       </td><td>4,7       </td><td>1,2       </td><td>versicolor</td><td>versicolor</td></tr>\n",
       "\t<tr><td>5,6       </td><td>2,8       </td><td>4,9       </td><td>2,0       </td><td>virginica </td><td>virginica </td></tr>\n",
       "\t<tr><td>5,7       </td><td>2,5       </td><td>5,0       </td><td>2,0       </td><td>virginica </td><td>virginica </td></tr>\n",
       "\t<tr><td>6,5       </td><td>3,2       </td><td>5,1       </td><td>2,0       </td><td>virginica </td><td>virginica </td></tr>\n",
       "\t<tr><td>5,5       </td><td>4,2       </td><td>1,4       </td><td>0,2       </td><td>setosa    </td><td>setosa    </td></tr>\n",
       "\t<tr><td>5,7       </td><td>2,9       </td><td>4,2       </td><td>1,3       </td><td>versicolor</td><td>versicolor</td></tr>\n",
       "</tbody>\n",
       "</table>\n"
      ],
      "text/latex": [
       "\\begin{tabular}{r|llllll}\n",
       " Sepal.Length & Sepal.Width & Petal.Length & Petal.Width & Species & Prediction\\\\\n",
       "\\hline\n",
       "\t 6,1        & 2,8        & 4,7        & 1,2        & versicolor & versicolor\\\\\n",
       "\t 5,6        & 2,8        & 4,9        & 2,0        & virginica  & virginica \\\\\n",
       "\t 5,7        & 2,5        & 5,0        & 2,0        & virginica  & virginica \\\\\n",
       "\t 6,5        & 3,2        & 5,1        & 2,0        & virginica  & virginica \\\\\n",
       "\t 5,5        & 4,2        & 1,4        & 0,2        & setosa     & setosa    \\\\\n",
       "\t 5,7        & 2,9        & 4,2        & 1,3        & versicolor & versicolor\\\\\n",
       "\\end{tabular}\n"
      ],
      "text/markdown": [
       "\n",
       "| Sepal.Length | Sepal.Width | Petal.Length | Petal.Width | Species | Prediction |\n",
       "|---|---|---|---|---|---|\n",
       "| 6,1        | 2,8        | 4,7        | 1,2        | versicolor | versicolor |\n",
       "| 5,6        | 2,8        | 4,9        | 2,0        | virginica  | virginica  |\n",
       "| 5,7        | 2,5        | 5,0        | 2,0        | virginica  | virginica  |\n",
       "| 6,5        | 3,2        | 5,1        | 2,0        | virginica  | virginica  |\n",
       "| 5,5        | 4,2        | 1,4        | 0,2        | setosa     | setosa     |\n",
       "| 5,7        | 2,9        | 4,2        | 1,3        | versicolor | versicolor |\n",
       "\n"
      ],
      "text/plain": [
       "  Sepal.Length Sepal.Width Petal.Length Petal.Width Species    Prediction\n",
       "1 6,1          2,8         4,7          1,2         versicolor versicolor\n",
       "2 5,6          2,8         4,9          2,0         virginica  virginica \n",
       "3 5,7          2,5         5,0          2,0         virginica  virginica \n",
       "4 6,5          3,2         5,1          2,0         virginica  virginica \n",
       "5 5,5          4,2         1,4          0,2         setosa     setosa    \n",
       "6 5,7          2,9         4,2          1,3         versicolor versicolor"
      ]
     },
     "metadata": {},
     "output_type": "display_data"
    }
   ],
   "source": [
    "head(iris_fitted)"
   ]
  },
  {
   "cell_type": "code",
   "execution_count": 246,
   "metadata": {},
   "outputs": [
    {
     "data": {
      "text/plain": [
       "n= 119 \n",
       "\n",
       "node), split, n, loss, yval, (yprob)\n",
       "      * denotes terminal node\n",
       "\n",
       "1) root 119 78 virginica (0,31932773 0,33613445 0,34453782)  \n",
       "  2) Petal.Length< 2,45 38  0 setosa (1,00000000 0,00000000 0,00000000) *\n",
       "  3) Petal.Length>=2,45 81 40 virginica (0,00000000 0,49382716 0,50617284)  \n",
       "    6) Petal.Width< 1,75 43  4 versicolor (0,00000000 0,90697674 0,09302326) *\n",
       "    7) Petal.Width>=1,75 38  1 virginica (0,00000000 0,02631579 0,97368421) *"
      ]
     },
     "metadata": {},
     "output_type": "display_data"
    }
   ],
   "source": [
    "fitted_tree"
   ]
  },
  {
   "cell_type": "code",
   "execution_count": 247,
   "metadata": {},
   "outputs": [],
   "source": [
    "library(caret)"
   ]
  },
  {
   "cell_type": "code",
   "execution_count": 248,
   "metadata": {},
   "outputs": [
    {
     "data": {
      "text/plain": [
       "Confusion Matrix and Statistics\n",
       "\n",
       "            Reference\n",
       "Prediction   setosa versicolor virginica\n",
       "  setosa         12          0         0\n",
       "  versicolor      0         10         0\n",
       "  virginica       0          1         8\n",
       "\n",
       "Overall Statistics\n",
       "                                         \n",
       "               Accuracy : 0,9677         \n",
       "                 95% CI : (0,833, 0,9992)\n",
       "    No Information Rate : 0,3871         \n",
       "    P-Value [Acc > NIR] : 8,358e-12      \n",
       "                                         \n",
       "                  Kappa : 0,9512         \n",
       "                                         \n",
       " Mcnemar's Test P-Value : NA             \n",
       "\n",
       "Statistics by Class:\n",
       "\n",
       "                     Class: setosa Class: versicolor Class: virginica\n",
       "Sensitivity                 1,0000            0,9091           1,0000\n",
       "Specificity                 1,0000            1,0000           0,9565\n",
       "Pos Pred Value              1,0000            1,0000           0,8889\n",
       "Neg Pred Value              1,0000            0,9524           1,0000\n",
       "Prevalence                  0,3871            0,3548           0,2581\n",
       "Detection Rate              0,3871            0,3226           0,2581\n",
       "Detection Prevalence        0,3871            0,3226           0,2903\n",
       "Balanced Accuracy           1,0000            0,9545           0,9783"
      ]
     },
     "metadata": {},
     "output_type": "display_data"
    }
   ],
   "source": [
    "confusionMatrix(iris_fitted$Species, iris_fitted$Prediction)"
   ]
  },
  {
   "cell_type": "code",
   "execution_count": 240,
   "metadata": {},
   "outputs": [],
   "source": [
    "iris_fitted <- iris_fitted %>%\n",
    "    mutate(tree_failure=Species != Prediction)"
   ]
  },
  {
   "cell_type": "code",
   "execution_count": 241,
   "metadata": {},
   "outputs": [
    {
     "data": {
      "image/png": "[encoded data removed]",
      "text/plain": [
       "plot without title"
      ]
     },
     "metadata": {},
     "output_type": "display_data"
    },
    {
     "data": {
      "image/png": "[encoded data removed]",
      "text/plain": [
       "plot without title"
      ]
     },
     "metadata": {},
     "output_type": "display_data"
    }
   ],
   "source": [
    "options(repr.plot.width=12, repr.plot.height=5)\n",
    "iris_fitted %>%\n",
    "    ggplot(aes(x=Petal.Width, y=Petal.Length, color=tree_failure)) +\n",
    "        geom_point(shape=1)\n",
    "iris_fitted %>%\n",
    "    ggplot(aes(x=Sepal.Width, y=Sepal.Length, color=tree_failure)) +\n",
    "        geom_point(shape=1)"
   ]
  },
  {
   "cell_type": "code",
   "execution_count": null,
   "metadata": {},
   "outputs": [],
   "source": []
  },
  {
   "cell_type": "code",
   "execution_count": null,
   "metadata": {},
   "outputs": [],
   "source": []
  }
 ],
 "metadata": {
  "kernelspec": {
   "display_name": "R",
   "language": "R",
   "name": "ir"
  },
  "language_info": {
   "codemirror_mode": "r",
   "file_extension": ".r",
   "mimetype": "text/x-r-source",
   "name": "R",
   "pygments_lexer": "r",
   "version": "3.6.1"
  }
 },
 "nbformat": 4,
 "nbformat_minor": 4
}
