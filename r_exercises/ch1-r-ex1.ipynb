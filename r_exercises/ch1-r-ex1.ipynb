{
 "cells": [
  {
   "cell_type": "markdown",
   "metadata": {},
   "source": [
    "# Chapter 1 \n",
    "\n",
    "## Exercise 1\n",
    "\n",
    "This simple data analysis pipeline uses a [decision tree](https://en.wikipedia.org/wiki/Decision_tree_learning) model to classify flowers from the famous [iris dataset](https://archive.ics.uci.edu/ml/datasets/iris).\n",
    "\n",
    "Questions:\n",
    "\n",
    "1. Look through the example pipeline. Mark which cells belong to which categories in this categorization:\n",
    "    - Data perparation and loading\n",
    "    - Modeling\n",
    "    - Evaluation\n",
    "    - Presentation\n",
    "2. Try to determine the pieces of the code that are **unique** to this specific dataset. Discuss how you would generalize this pipeline to other datasets."
   ]
  },
  {
   "cell_type": "code",
   "execution_count": null,
   "metadata": {},
   "outputs": [],
   "source": [
    "# Cell 1\n",
    "library(tidyverse)\n",
    "library(broom)\n",
    "library(modelr)\n",
    "library(rpart)\n",
    "library(caret)"
   ]
  },
  {
   "cell_type": "code",
   "execution_count": null,
   "metadata": {},
   "outputs": [],
   "source": [
    "# Cell 2\n",
    "iris <- read_csv('../data/iris.data', col_names=c('Sepal.Length', 'Sepal.Width', 'Petal.Length', 'Petal.Width', 'Species')) %>%\n",
    "    rowid_to_column('id') %>%\n",
    "    mutate(Species=str_remove(Species, 'Iris-')) %>%\n",
    "    mutate(Species=as.factor(Species))\n",
    "print(iris)"
   ]
  },
  {
   "cell_type": "code",
   "execution_count": null,
   "metadata": {},
   "outputs": [],
   "source": [
    "# Cell 3\n",
    "set.seed(42)\n",
    "sample_ix <- sample(nrow(iris))\n",
    "iris <- iris[sample_ix,]\n",
    "head(iris)\n",
    "iris <- select(iris, -id)\n",
    "head(iris)"
   ]
  },
  {
   "cell_type": "code",
   "execution_count": null,
   "metadata": {},
   "outputs": [],
   "source": [
    "iris_split <- iris %>%\n",
    "    resample_partition(c(train=0.8, test=0.2))\n",
    "\n",
    "iris_split$train %>%\n",
    "    as_tibble() %>%\n",
    "    group_by(Species) %>%\n",
    "    tally()\n",
    "\n",
    "iris_split$test %>%\n",
    "    as_tibble() %>%\n",
    "    group_by(Species) %>%\n",
    "    tally()"
   ]
  },
  {
   "cell_type": "code",
   "execution_count": null,
   "metadata": {},
   "outputs": [],
   "source": [
    "fitted_tree <- iris_split$train %>%\n",
    "    as_tibble() %>%\n",
    "    rpart(Species ~ ., data=., method='class')\n",
    "fitted_tree"
   ]
  },
  {
   "cell_type": "code",
   "execution_count": null,
   "metadata": {},
   "outputs": [],
   "source": [
    "iris_fitted <- iris_split$test %>%\n",
    "    as_tibble() %>%\n",
    "    mutate(Prediction = predict(fitted_tree, newdata=., type='class')) %>%\n",
    "    mutate(tree_failure=Species != Prediction)"
   ]
  },
  {
   "cell_type": "code",
   "execution_count": null,
   "metadata": {},
   "outputs": [],
   "source": [
    "confusionMatrix(iris_fitted$Species, iris_fitted$Prediction)"
   ]
  },
  {
   "cell_type": "code",
   "execution_count": null,
   "metadata": {},
   "outputs": [],
   "source": [
    "options(repr.plot.width=12, repr.plot.height=5)\n",
    "iris_fitted %>%\n",
    "    ggplot(aes(x=Petal.Width, y=Petal.Length, color=tree_failure)) +\n",
    "        geom_point(shape=1)\n",
    "iris_fitted %>%\n",
    "    ggplot(aes(x=Sepal.Width, y=Sepal.Length, color=tree_failure)) +\n",
    "        geom_point(shape=1)"
   ]
  },
  {
   "cell_type": "code",
   "execution_count": null,
   "metadata": {},
   "outputs": [],
   "source": []
  },
  {
   "cell_type": "code",
   "execution_count": null,
   "metadata": {},
   "outputs": [],
   "source": []
  }
 ],
 "metadata": {
  "kernelspec": {
   "display_name": "R",
   "language": "R",
   "name": "ir"
  },
  "language_info": {
   "codemirror_mode": "r",
   "file_extension": ".r",
   "mimetype": "text/x-r-source",
   "name": "R",
   "pygments_lexer": "r",
   "version": "3.6.1"
  }
 },
 "nbformat": 4,
 "nbformat_minor": 4
}
