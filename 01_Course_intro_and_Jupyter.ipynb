{
 "cells": [
  {
   "cell_type": "markdown",
   "metadata": {},
   "source": [
    "# Introduction\n",
    "## Goals\n",
    "By the end of this course, you should be able to\n",
    "- Do basic data analysis using R or Python/Pandas, with a special emphasis on\n",
    "  - The practical side of things you might not learn in academic courses\n",
    "  - workflows and strategies that work in research\n",
    "\n",
    "What this course is NOT:\n",
    "- A basic course in programming. We don't expect you to have prior knowledge of R or Python, but some programming experience is required.\n",
    "- A basic course in statistics / machine learning. As part of the course we'll do some simple stuff, but we expect that you either understand the statistics from before or learn it on your own.\n",
    "\n",
    "Topics that we're going to cover\n",
    "- The dataframe data structure, and how it relates to other common data structures\n",
    "- Input/output and I/O optimization\n",
    "- Working with dataframes. Indexing, etc.\n",
    "- Visualizing your results\n",
    "- Profiling and optimizing\n",
    "- Debugging\n"
   ]
  },
  {
   "cell_type": "markdown",
   "metadata": {},
   "source": [
    "# Course practicalities\n",
    "* Six sessions, three on R and three on Python.  Content is mostly the same, so come to the parts you would like (or both)\n",
    "* Goal is hands-on work with the help of lots of examples - not just lectures with separate exercises"
   ]
  },
  {
   "cell_type": "markdown",
   "metadata": {},
   "source": [
    "# Jupyter\n",
    "* Jupyter (https://jupyter.org) is a web-based \"notebook\": lets you intersperse code and writing together in an interactive format... like this:"
   ]
  },
  {
   "cell_type": "code",
   "execution_count": 1,
   "metadata": {
    "ExecuteTime": {
     "end_time": "2018-04-08T21:43:16.732830Z",
     "start_time": "2018-04-08T21:43:16.723956Z"
    }
   },
   "outputs": [
    {
     "data": {
      "text/plain": [
       "55"
      ]
     },
     "execution_count": 1,
     "metadata": {},
     "output_type": "execute_result"
    }
   ],
   "source": [
    "sum(range(0,11))"
   ]
  },
  {
   "cell_type": "markdown",
   "metadata": {},
   "source": [
    "... or even put plots and stuff inline:"
   ]
  },
  {
   "cell_type": "code",
   "execution_count": 2,
   "metadata": {
    "ExecuteTime": {
     "end_time": "2018-04-08T21:43:17.453493Z",
     "start_time": "2018-04-08T21:43:16.739644Z"
    }
   },
   "outputs": [
    {
     "data": {
      "text/plain": [
       "<matplotlib.collections.PathCollection at 0x7f27e8f3f0b8>"
      ]
     },
     "execution_count": 2,
     "metadata": {},
     "output_type": "execute_result"
    },
    {
     "data": {
      "image/png": "[encoded data removed]",
      "text/plain": [
       "<Figure size 432x288 with 1 Axes>"
      ]
     },
     "metadata": {
      "needs_background": "light"
     },
     "output_type": "display_data"
    }
   ],
   "source": [
    "%matplotlib inline\n",
    "import numpy, pylab\n",
    "pylab.scatter(numpy.random.rand(15), numpy.random.rand(15))"
   ]
  },
  {
   "cell_type": "markdown",
   "metadata": {},
   "source": [
    "## Why?\n",
    "* You might traditionally have code separate from output.  You understand each individually - not good for understanding.\n",
    "* Interleaving code and outputs tells a whole story\n",
    "* The Python philosophy is that you read your code more often than you write - Jupyter supports that.\n",
    "* Jupyter has become more and more popular these days, as exploration and interactivity is more important than raw computing power\n",
    "\n",
    "## Why not?\n",
    "* Notebooks not scriptable - you run it manually.  Not easy to apply notebook code to new data without manual work.\n",
    "* Not necessarily an efficient use of resources CPU/memory heavy analysis.\n",
    "* Notebooks don't replace good libraries and modular code.  Should use these.\n",
    "\n",
    "## Our recommendations\n",
    "* Use Jupyter for exploration and light analysis\n",
    "* We *don't* think that Jupyter is the solution for everything, but it *does* make teaching this course easier.\n",
    "* If your way of working is IPython console and you never run stuff from the command line, they will suit you well.\n",
    "* Eventually, you will grow beyond notebooks.  Then, you will need to go to Python modules and proper programs that can be scripted.\n",
    "* Read our [Jupyter pitfalls](https://scicomp.aalto.fi/scicomp/jupyter-pitfalls.html) page for common issues as you grow and how to avaid them.\n"
   ]
  },
  {
   "cell_type": "markdown",
   "metadata": {},
   "source": [
    "# jupyter.cs.aalto.fi\n",
    "* https://jupyter.cs.aalto.fi is an instance of JupyterHub, which is a server-based login.  So, you don't need to run Jupyter yourself, but it is always available for you\n",
    "* For light computing.  Many courses use it.\n"
   ]
  },
  {
   "cell_type": "markdown",
   "metadata": {},
   "source": [
    "# jupyter.triton.aalto.fi\n",
    "* https://jupyter.triton.aalto.fi is an instance of JupyterHub, which is a multi-user server that provides access to Triton data storage directly.  So, you don't need to run Jupyter yourself, but it is always available for you\n",
    "* It is not for computationally or memory intensive work - because it makes a reservation for your CPU and memory use.\n",
    "* Triton is the Aalto HPC cluster and was used is past year's course.  This year not, but we still provide some advice on it."
   ]
  },
  {
   "cell_type": "markdown",
   "metadata": {},
   "source": [
    "# Exercises 1: Using JupyterHub in this course\n",
    "* Go to https://jupyter.cs.aalto.fi and log on with your Aalto credentials\n",
    "* Start \"Python - general use\".\n",
    "* Try playing around some"
   ]
  },
  {
   "cell_type": "markdown",
   "metadata": {},
   "source": [
    "# Using notebooks\n",
    "\n",
    "See demo [02_Jupyter_demo_pi.ipynb](02_Jupyter_demo_pi.ipynb)"
   ]
  },
  {
   "cell_type": "markdown",
   "metadata": {},
   "source": [
    "## What's in Jupyter?\n",
    "* Web UI\n",
    "    * This is what you see here,  Some fancy web application\n",
    "* Kernel (code) running in background\n",
    "    * Jupyter isn't just Python: there are different languages.  These all run on the server, as you.\n",
    "    * They are normal Python (or whatever language) processes.\n",
    "    * Science-IT can install and manage them for you.\n",
    "* Saved file: just JSON data, including images and formatting visualize without running.\n",
    "    * Github, for example, renders things automatically.\n",
    "* JupyterHub: multiuser web login.\n",
    "* Lots of different extensions, etc."
   ]
  },
  {
   "cell_type": "markdown",
   "metadata": {},
   "source": [
    "## Shortcuts and tips\n",
    "* To be efficient, you really should learn just a few keyboard shortcuts.  Check the help menu for more.\n",
    "* There is command mode and edit mode\n",
    "    * ENTER: switch to edit mode\n",
    "    * ESC: switch to command mode to use arrow keys to navigate\n",
    "* Edit mode:\n",
    "    * Control-ENTER: run cell, keep editing current one.\n",
    "    * Shift-ENTER: run cell, select cell below\n",
    "* Command mode:\n",
    "    * Arrow keys: navigate cells\n",
    "    * \"a\": insert cell above\n",
    "    * \"b\": insert cell below\n",
    "    * \"m\": change cell type to markdown (\"y\" back to code)\n",
    "    * SPACE: scroll down (Shift-SPACE: up)\n",
    "* Cell magics (kernel dependent)\n",
    "    * `%%timeit`, `%time`, `%autoreload`\n",
    "    * "
   ]
  },
  {
   "cell_type": "markdown",
   "metadata": {},
   "source": [
    "## The shell terminal\n",
    "* Jupyter has a terminal built-in, that can do anything that ssh can\n",
    "* Don't be afraid to use it - it provides a good bridge between exploration and "
   ]
  },
  {
   "cell_type": "markdown",
   "metadata": {},
   "source": [
    "# Classic Jupyter notebooks\n",
    "* Older version of notebooks, not like an integrated development environment.\n",
    "* Change `/lab` to `/tree` in your URL"
   ]
  },
  {
   "cell_type": "markdown",
   "metadata": {},
   "source": [
    "# \"Not invented here\" syndrome\n",
    "\n",
    "* There is a huge amount of stuff already invented\n",
    "  * Unknown quality or reliability\n",
    "  * Hard to figure out how to use\n",
    "  * Not flexible enough (or might not be in the future)\n",
    "  * Do not want to add more dependencies\n",
    "\n",
    "* How do you evaluate if something is suitable for use in your projects?\n",
    "  * Does it have a license ?\n",
    "  * Does it have releases?\n",
    "  * Is it documentation?\n",
    "  * Does it seem maintained?\n",
    "  * Does it have tests?\n",
    "  * Is it reused often?\n",
    "\n",
    "* Recommendation: \n",
    "  * At least always be aware of what is already out there\n",
    "  * Stick to well-maintained, popular packages which seem to have a community behind them.  But look at others, too.\n",
    "  * Consider which of your code should be reuseable\n",
    "  * Contribute to the projects you reuse.\n",
    "  \n"
   ]
  },
  {
   "cell_type": "code",
   "execution_count": null,
   "metadata": {},
   "outputs": [],
   "source": []
  }
 ],
 "metadata": {
  "kernelspec": {
   "display_name": "Python 3",
   "language": "python",
   "name": "python3"
  },
  "language_info": {
   "codemirror_mode": {
    "name": "ipython",
    "version": 3
   },
   "file_extension": ".py",
   "mimetype": "text/x-python",
   "name": "python",
   "nbconvert_exporter": "python",
   "pygments_lexer": "ipython3",
   "version": "3.7.3"
  },
  "toc": {
   "nav_menu": {},
   "number_sections": true,
   "sideBar": true,
   "skip_h1_title": false,
   "title_cell": "Table of Contents",
   "title_sidebar": "Contents",
   "toc_cell": false,
   "toc_position": {},
   "toc_section_display": true,
   "toc_window_display": false
  },
  "varInspector": {
   "cols": {
    "lenName": 16,
    "lenType": 16,
    "lenVar": 40
   },
   "kernels_config": {
    "python": {
     "delete_cmd_postfix": "",
     "delete_cmd_prefix": "del ",
     "library": "var_list.py",
     "varRefreshCmd": "print(var_dic_list())"
    },
    "r": {
     "delete_cmd_postfix": ") ",
     "delete_cmd_prefix": "rm(",
     "library": "var_list.r",
     "varRefreshCmd": "cat(var_dic_list()) "
    }
   },
   "types_to_exclude": [
    "module",
    "function",
    "builtin_function_or_method",
    "instance",
    "_Feature"
   ],
   "window_display": false
  }
 },
 "nbformat": 4,
 "nbformat_minor": 4
}
